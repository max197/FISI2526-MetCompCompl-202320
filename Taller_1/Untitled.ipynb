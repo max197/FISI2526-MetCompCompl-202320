{
 "cells": [
  {
   "cell_type": "code",
   "execution_count": 3,
   "metadata": {},
   "outputs": [
    {
     "ename": "AttributeError",
     "evalue": "'list' object has no attribute 'split'",
     "output_type": "error",
     "traceback": [
      "\u001b[1;31m---------------------------------------------------------------------------\u001b[0m",
      "\u001b[1;31mAttributeError\u001b[0m                            Traceback (most recent call last)",
      "\u001b[1;32m<ipython-input-3-50367edd04d1>\u001b[0m in \u001b[0;36m<module>\u001b[1;34m\u001b[0m\n\u001b[0;32m     21\u001b[0m \u001b[1;31m#print(get_longitud_refraccion(\"Taller_1\\Vidrio\\TK20.yml\"))\u001b[0m\u001b[1;33m\u001b[0m\u001b[1;33m\u001b[0m\u001b[1;33m\u001b[0m\u001b[0m\n\u001b[0;32m     22\u001b[0m \u001b[1;33m\u001b[0m\u001b[0m\n\u001b[1;32m---> 23\u001b[1;33m \u001b[0mkapton\u001b[0m \u001b[1;33m=\u001b[0m \u001b[0mget_longitud_refraccion\u001b[0m\u001b[1;33m(\u001b[0m\u001b[1;34m\"Plásticos Comerciales\\French.yml\"\u001b[0m\u001b[1;33m)\u001b[0m\u001b[1;33m\u001b[0m\u001b[1;33m\u001b[0m\u001b[0m\n\u001b[0m\u001b[0;32m     24\u001b[0m \u001b[0mx1\u001b[0m \u001b[1;33m=\u001b[0m \u001b[0mnp\u001b[0m\u001b[1;33m.\u001b[0m\u001b[0marray\u001b[0m\u001b[1;33m(\u001b[0m\u001b[1;33m[\u001b[0m\u001b[0me\u001b[0m\u001b[1;33m[\u001b[0m\u001b[1;36m0\u001b[0m\u001b[1;33m]\u001b[0m \u001b[1;32mfor\u001b[0m \u001b[0me\u001b[0m \u001b[1;32min\u001b[0m \u001b[0mkapton\u001b[0m \u001b[1;33m]\u001b[0m\u001b[1;33m)\u001b[0m\u001b[1;33m\u001b[0m\u001b[1;33m\u001b[0m\u001b[0m\n\u001b[0;32m     25\u001b[0m \u001b[0my1\u001b[0m \u001b[1;33m=\u001b[0m \u001b[0mnp\u001b[0m\u001b[1;33m.\u001b[0m\u001b[0marray\u001b[0m\u001b[1;33m(\u001b[0m\u001b[1;33m[\u001b[0m\u001b[0me\u001b[0m\u001b[1;33m[\u001b[0m\u001b[1;36m1\u001b[0m\u001b[1;33m]\u001b[0m \u001b[1;32mfor\u001b[0m \u001b[0me\u001b[0m \u001b[1;32min\u001b[0m \u001b[0mkapton\u001b[0m \u001b[1;33m]\u001b[0m\u001b[1;33m)\u001b[0m\u001b[1;33m\u001b[0m\u001b[1;33m\u001b[0m\u001b[0m\n",
      "\u001b[1;32m<ipython-input-3-50367edd04d1>\u001b[0m in \u001b[0;36mget_longitud_refraccion\u001b[1;34m(archivo)\u001b[0m\n\u001b[0;32m      5\u001b[0m      \u001b[1;32mwith\u001b[0m \u001b[0mopen\u001b[0m\u001b[1;33m(\u001b[0m\u001b[0marchivo\u001b[0m\u001b[1;33m,\u001b[0m\u001b[1;34m\"r\"\u001b[0m\u001b[1;33m)\u001b[0m \u001b[1;32mas\u001b[0m \u001b[0mfile\u001b[0m\u001b[1;33m:\u001b[0m\u001b[1;33m\u001b[0m\u001b[1;33m\u001b[0m\u001b[0m\n\u001b[0;32m      6\u001b[0m           \u001b[0mresult\u001b[0m \u001b[1;33m=\u001b[0m \u001b[0mfile\u001b[0m\u001b[1;33m.\u001b[0m\u001b[0mread\u001b[0m\u001b[1;33m(\u001b[0m\u001b[1;33m)\u001b[0m\u001b[1;33m\u001b[0m\u001b[1;33m\u001b[0m\u001b[0m\n\u001b[1;32m----> 7\u001b[1;33m           \u001b[0mdata\u001b[0m \u001b[1;33m=\u001b[0m \u001b[0mresult\u001b[0m\u001b[1;33m.\u001b[0m\u001b[0msplit\u001b[0m\u001b[1;33m(\u001b[0m\u001b[1;34m\"data: |\"\u001b[0m\u001b[1;33m)\u001b[0m\u001b[1;33m[\u001b[0m\u001b[1;36m1\u001b[0m\u001b[1;33m:\u001b[0m\u001b[1;36m2\u001b[0m\u001b[1;33m]\u001b[0m\u001b[1;33m.\u001b[0m\u001b[0msplit\u001b[0m\u001b[1;33m(\u001b[0m\u001b[1;34m\"\\n        \"\u001b[0m\u001b[1;33m)\u001b[0m\u001b[1;33m\u001b[0m\u001b[1;33m\u001b[0m\u001b[0m\n\u001b[0m\u001b[0;32m      8\u001b[0m           \u001b[0mlista\u001b[0m \u001b[1;33m=\u001b[0m \u001b[1;33m[\u001b[0m\u001b[1;33m]\u001b[0m\u001b[1;33m\u001b[0m\u001b[1;33m\u001b[0m\u001b[0m\n\u001b[0;32m      9\u001b[0m           \u001b[1;32mfor\u001b[0m \u001b[0mi\u001b[0m \u001b[1;32min\u001b[0m \u001b[0mrange\u001b[0m\u001b[1;33m(\u001b[0m\u001b[0mlen\u001b[0m\u001b[1;33m(\u001b[0m\u001b[0mdata\u001b[0m\u001b[1;33m)\u001b[0m\u001b[1;33m)\u001b[0m\u001b[1;33m:\u001b[0m\u001b[1;33m\u001b[0m\u001b[1;33m\u001b[0m\u001b[0m\n",
      "\u001b[1;31mAttributeError\u001b[0m: 'list' object has no attribute 'split'"
     ]
    }
   ],
   "source": [
    "import matplotlib.pyplot as plt \n",
    "import numpy as np\n",
    "\n",
    "def get_longitud_refraccion(archivo):\n",
    "     with open(archivo,\"r\") as file:\n",
    "          result = file.read()\n",
    "          data = result.split(\"data: |\")[1:2].split(\"\\n        \")\n",
    "          lista = []\n",
    "          for i in range(len(data)):\n",
    "               tupla = tuple(data[i].split(\" \"))\n",
    "               lista.append(tupla)\n",
    "          lista.pop(0)\n",
    "          ultimo = (lista[-1][0],lista[-1][1].replace(\"\\n\",\"\"))\n",
    "          lista.pop()\n",
    "          lista.append(ultimo)\n",
    "\n",
    "          #Castear los strings de la tupla a floats\n",
    "          lista = [tuple(float(item) for item in i) for i in lista]\n",
    "          return lista\n",
    "        \n",
    "#print(get_longitud_refraccion(\"Taller_1\\Vidrio\\TK20.yml\"))\n",
    "\n",
    "kapton = get_longitud_refraccion(\"Plásticos Comerciales\\French.yml\")\n",
    "x1 = np.array([e[0] for e in kapton ])\n",
    "y1 = np.array([e[1] for e in kapton ])\n",
    "\n",
    "fig, axs = plt.subplots(nrows=1,ncols=2,figsize=(18,4.5))\n",
    "mu1 = np.mean(y1)\n",
    "std1 = np.std(y1)\n",
    "axs[0].scatter(x1,y1)\n",
    "axs[0].set_ylabel('Refraccion')\n",
    "axs[0].set_xlabel('Longitud onda ')\n",
    "axs[0].set_title('Longitud onda vs Refraccion')\n",
    "\n",
    "NOA138 = get_longitud_refraccion(\"Adhesivos Ópticos\\Iezzi.yml.1\")\n",
    "x2 = np.array([e[0] for e in NOA138 ])\n",
    "y2 = np.array([e[1] for e in NOA138 ])\n",
    "fig, axs = plt.subplots(nrows=1,ncols=2,figsize=(18,4.5))\n",
    "mu2 = np.mean(y2)\n",
    "std2 = np.std(y2)\n",
    "axs[1].scatter(x2,y2)\n",
    "axs[1].set_ylabel('Refraccion')\n",
    "axs[1].set_xlabel('Longitud onda ')\n",
    "axs[1].set_title('')"
   ]
  },
  {
   "cell_type": "code",
   "execution_count": null,
   "metadata": {},
   "outputs": [],
   "source": []
  }
 ],
 "metadata": {
  "kernelspec": {
   "display_name": "Python 3",
   "language": "python",
   "name": "python3"
  },
  "language_info": {
   "codemirror_mode": {
    "name": "ipython",
    "version": 3
   },
   "file_extension": ".py",
   "mimetype": "text/x-python",
   "name": "python",
   "nbconvert_exporter": "python",
   "pygments_lexer": "ipython3",
   "version": "3.7.6"
  }
 },
 "nbformat": 4,
 "nbformat_minor": 4
}
