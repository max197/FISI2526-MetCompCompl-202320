{
 "cells": [
  {
   "cell_type": "code",
   "execution_count": 17,
   "metadata": {},
   "outputs": [
    {
     "data": {
      "image/png": "[encoded data removed]",
      "text/plain": [
       "<Figure size 720x576 with 1 Axes>"
      ]
     },
     "metadata": {
      "needs_background": "light"
     },
     "output_type": "display_data"
    }
   ],
   "source": [
    "import matplotlib.pyplot as plt \n",
    "import numpy as np\n",
    "\n",
    "#PUNTO 1.3\n",
    "def get_longitud_refraccion(archivo):\n",
    "     with open(archivo,\"r\") as file:\n",
    "          result = file.read()\n",
    "          data = result.split(\"data: |\")[1].split(\"\\n        \")\n",
    "          lista = []\n",
    "          for i in range(len(data)):\n",
    "               tupla = tuple(data[i].split(\" \"))\n",
    "               lista.append(tupla)\n",
    "          lista.pop(0)\n",
    "          ultimo = (lista[-1][0],lista[-1][1].replace(\"\\n\",\"\"))\n",
    "          lista.pop()\n",
    "          lista.append(ultimo)\n",
    "\n",
    "          #Castear los strings de la tupla a floats\n",
    "          lista = [tuple(float(item) for item in i) for i in lista]\n",
    "          return lista\n",
    "        \n",
    "#print(get_longitud_refraccion(\"Taller_1\\Vidrio\\TK20.yml\"))\n",
    "\n",
    "#PUNTO 1.4\n",
    "\n",
    "\n",
    "\n",
    "\n",
    "\n",
    "\n",
    "#TO DO: \n",
    "# 1. Arreglar las tuplas que tienen el string SPECS\n",
    "\n",
    "'''\n",
    "NOA138 = get_longitud_refraccion(\"Taller_1\\Adhesivos Ópticos\\Iezzi.yml.1\")\n",
    "x2 = np.array([e[0] for e in NOA138 ])\n",
    "y2 = np.array([e[1] for e in NOA138 ])\n",
    "mu2 = np.mean(y2)\n",
    "std2 = np.std(y2)\n",
    "axs[1].scatter(x2,y2)\n",
    "axs[1].set_ylabel('Refraccion')\n",
    "axs[1].set_xlabel('Longitud onda ')\n",
    "axs[1].set_title('')\n",
    "'''\n",
    "#1.5\n",
    "def graficar(ruta):\n",
    "     fig, axs = plt.subplots(nrows=1,ncols=1,figsize=(10,8))\n",
    "     data = get_longitud_refraccion(ruta)\n",
    "     x = np.array([e[0] for e in data ])\n",
    "     y = np.array([e[1] for e in data ])\n",
    "     mu = np.mean(y)\n",
    "     std = np.std(y)\n",
    "     elemento = ruta.split(\"\\\\\")[-1].replace(\".yml\",\"\")\n",
    "     axs.scatter(x,y)\n",
    "     axs.set_ylabel('Refraccion')\n",
    "     axs.set_xlabel('Longitud onda ')\n",
    "     axs.set_title(f'Material {elemento}. mean = {mu}, std = {std}')\n",
    "     \n",
    "\n",
    "graficar(\"Vidrio\\BF8.yml\")\n",
    "     "
   ]
  },
  {
   "cell_type": "code",
   "execution_count": null,
   "metadata": {},
   "outputs": [],
   "source": []
  }
 ],
 "metadata": {
  "kernelspec": {
   "display_name": "Python 3",
   "language": "python",
   "name": "python3"
  },
  "language_info": {
   "codemirror_mode": {
    "name": "ipython",
    "version": 3
   },
   "file_extension": ".py",
   "mimetype": "text/x-python",
   "name": "python",
   "nbconvert_exporter": "python",
   "pygments_lexer": "ipython3",
   "version": "3.7.6"
  }
 },
 "nbformat": 4,
 "nbformat_minor": 4
}
