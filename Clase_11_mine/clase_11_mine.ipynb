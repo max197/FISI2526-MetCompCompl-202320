{
 "cells": [
  {
   "cell_type": "code",
   "execution_count": 1,
   "metadata": {},
   "outputs": [],
   "source": [
    "import numpy as np"
   ]
  },
  {
   "cell_type": "code",
   "execution_count": 91,
   "metadata": {},
   "outputs": [],
   "source": [
    "def matrix_mult(A,B):\n",
    "    '''A es una matriz nxm B es una matrix mxp'''\n",
    "    n = A.shape[0]\n",
    "    m_a = A.shape[1]\n",
    "    m_b = A.shape[0]\n",
    "    p = A.shape[1]\n",
    "    \n",
    "    if B.ndim==1:\n",
    "        C = np.zeros(n)\n",
    "        for i in range(m_a):\n",
    "            C +=B[i]*A[:,i]\n",
    "        return C\n",
    "    \n",
    "    if m_a!=m_b:\n",
    "        print(\"Dimensiones no coinciden\")\n",
    "        return None\n",
    "    \n",
    "    C = np.zeros((n,p))\n",
    "    \n",
    "    for i in range(n):\n",
    "        for j in range(p):\n",
    "            C[i,j] = A[i,:]@B[:,j]\n",
    "    return C"
   ]
  },
  {
   "cell_type": "code",
   "execution_count": 92,
   "metadata": {},
   "outputs": [
    {
     "data": {
      "text/plain": [
       "array([ 39.,  23.,  12., -42.,  32.])"
      ]
     },
     "execution_count": 92,
     "metadata": {},
     "output_type": "execute_result"
    }
   ],
   "source": [
    "A = np.array([\n",
    "    [5,-4,-2],\n",
    "    [5,-5,4],\n",
    "    [2,5,-4],\n",
    "    [-5,4,3],\n",
    "    [3,-4,-3]\n",
    "]\n",
    ")\n",
    "\n",
    "B = np.array([5,-2,-3])\n",
    "\n",
    "matrix_mult(A,B)"
   ]
  },
  {
   "cell_type": "code",
   "execution_count": 93,
   "metadata": {},
   "outputs": [
    {
     "name": "stdout",
     "output_type": "stream",
     "text": [
      "Dimensiones no coinciden\n"
     ]
    }
   ],
   "source": [
    "A = np.array([\n",
    "    [0,-1,-1,3],\n",
    "    [5,-5,-2,2],\n",
    "    [1,0,4,5]\n",
    "])\n",
    "\n",
    "B = np.array([\n",
    "    [0,-3],\n",
    "    [-2,-1],\n",
    "    [3,-3]]\n",
    ")\n",
    "\n",
    "matrix_mult(A,B)"
   ]
  },
  {
   "cell_type": "code",
   "execution_count": 94,
   "metadata": {},
   "outputs": [],
   "source": [
    "A = np.array([\n",
    "    [2,-5,5,1],\n",
    "    [5,2,-7,-6],\n",
    "    [-6,-1,7,-4],\n",
    "    [5,4,1,-5]\n",
    "])\n",
    "\n",
    "B = np.array([\n",
    "    [0,4,-7,1,-6],\n",
    "    [-1,-6,-5,1,1],\n",
    "    [2,-1,-6,5,-5],\n",
    "    [3,-6,6,3,5]\n",
    "])"
   ]
  },
  {
   "cell_type": "code",
   "execution_count": 95,
   "metadata": {},
   "outputs": [
    {
     "data": {
      "text/plain": [
       "array([[ 18.,  27., -13.,  25.],\n",
       "       [-34.,  51., -39., -46.],\n",
       "       [  3.,  -1., -19.,  16.],\n",
       "       [-17.,  25., -91.,  -1.]])"
      ]
     },
     "execution_count": 95,
     "metadata": {},
     "output_type": "execute_result"
    }
   ],
   "source": [
    "matrix_mult(A,B)"
   ]
  },
  {
   "cell_type": "markdown",
   "metadata": {},
   "source": [
    "----"
   ]
  },
  {
   "cell_type": "markdown",
   "metadata": {},
   "source": [
    "## **Reduccion Gaussiana**"
   ]
  },
  {
   "cell_type": "code",
   "execution_count": 126,
   "metadata": {},
   "outputs": [],
   "source": [
    "def triangular(M):\n",
    "    A = M.copy()\n",
    "    \n",
    "    for i in range(0, M.shape[0]):\n",
    "        pivot = A[i,i]\n",
    "        #print(pivot)\n",
    "        A[i,:]= A[i,:]/A[i,i]\n",
    "        for j in range(i+1,M.shape[0]):\n",
    "            k = A[j,i] \n",
    "            A[j,:]-= k*A[i,:]\n",
    "            \n",
    "    return A"
   ]
  },
  {
   "cell_type": "code",
   "execution_count": 134,
   "metadata": {},
   "outputs": [],
   "source": [
    "def back_substitution(A, b):\n",
    "    '''\n",
    "    Args:\n",
    "        A (np.array): Matriz de coeficientes triangular superior\n",
    "        b (np.arra): vector de constantes\n",
    "        \n",
    "    '''\n",
    "\n",
    "    n = np.shape(A)[0]\n",
    "\n",
    "    x = np.zeros(n)\n",
    "\n",
    "    for i in range(n-1,-1,-1):\n",
    "        sum = b[i]\n",
    "        for j in range(n-1,i,-1):\n",
    "            sum -= A[i,j]*x[j]\n",
    "        x[i] = sum/A[i,i]\n",
    "\n",
    "    return x"
   ]
  },
  {
   "cell_type": "code",
   "execution_count": 136,
   "metadata": {},
   "outputs": [],
   "source": [
    "A = np.array([\n",
    "    [3,1,-1],\n",
    "    [1,-2,1],\n",
    "    [4,-1,1]\n",
    "])\n",
    "\n",
    "b = np.array([2,0,3])\n",
    "\n",
    "n = np.shape(A)[0]\n",
    "M = np.zeros(shape=(n,n+1))\n",
    "\n",
    "M[:,0:n] = A\n",
    "M[:,n] = b"
   ]
  },
  {
   "cell_type": "code",
   "execution_count": 143,
   "metadata": {},
   "outputs": [
    {
     "data": {
      "text/plain": [
       "array([[ 1.        ,  0.33333333, -0.33333333,  0.66666667],\n",
       "       [-0.        ,  1.        , -0.57142857,  0.28571429],\n",
       "       [ 0.        ,  0.        ,  1.        ,  1.        ]])"
      ]
     },
     "execution_count": 143,
     "metadata": {},
     "output_type": "execute_result"
    }
   ],
   "source": [
    "C = triangular(M)\n",
    "C"
   ]
  },
  {
   "cell_type": "code",
   "execution_count": 144,
   "metadata": {},
   "outputs": [],
   "source": [
    "A = C[:,:3].copy()\n",
    "b = C[:,3:].copy()"
   ]
  },
  {
   "cell_type": "code",
   "execution_count": 145,
   "metadata": {},
   "outputs": [
    {
     "data": {
      "text/plain": [
       "array([0.71428571, 0.85714286, 1.        ])"
      ]
     },
     "execution_count": 145,
     "metadata": {},
     "output_type": "execute_result"
    }
   ],
   "source": [
    "back_substitution(A,b)"
   ]
  }
 ],
 "metadata": {
  "kernelspec": {
   "display_name": "Python 3",
   "language": "python",
   "name": "python3"
  },
  "language_info": {
   "codemirror_mode": {
    "name": "ipython",
    "version": 3
   },
   "file_extension": ".py",
   "mimetype": "text/x-python",
   "name": "python",
   "nbconvert_exporter": "python",
   "pygments_lexer": "ipython3",
   "version": "3.7.6"
  }
 },
 "nbformat": 4,
 "nbformat_minor": 4
}
