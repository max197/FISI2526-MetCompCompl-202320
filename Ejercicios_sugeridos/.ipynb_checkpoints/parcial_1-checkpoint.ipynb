{
 "cells": [
  {
   "cell_type": "code",
   "execution_count": 2,
   "metadata": {},
   "outputs": [],
   "source": [
    "import numpy as np\n",
    "from matplotlib import pyplot as plt\n",
    "import functions as func\n",
    "import sympy as sym\n",
    "from sympy.utilities import lambdify\n",
    "import pandas as pd\n",
    "\n",
    "\n",
    "sym.init_printing(use_unicode=True)"
   ]
  },
  {
   "cell_type": "markdown",
   "metadata": {},
   "source": [
    "# ***Derivacion***"
   ]
  },
  {
   "cell_type": "markdown",
   "metadata": {},
   "source": [
    "### **Ejercicio 8**"
   ]
  },
  {
   "cell_type": "markdown",
   "metadata": {},
   "source": [
    "### (a)"
   ]
  },
  {
   "cell_type": "markdown",
   "metadata": {},
   "source": [
    "Inteporlación de lagrange para el soporte $\\Omega=\\{(x_0,f(x_0),(x_1,f(x_1),(x_2,f(x_2)\\}$ viene dada por \n",
    "\n",
    "$$\n",
    "p_n(x) = \\sum_{i=0}^2 f(x_i)\\mathcal{L}_i(x)\n",
    "$$\n",
    "\n",
    "donde $\\mathcal{L}_i = \\prod_{j=0, j\\neq i}^2\\frac{x-x_j}{x_i-x_j}$. Tenemos entonces que \n",
    "\n",
    "$\\mathcal{L}_0 = \\frac{(x-x_1)(x-x_2)}{(x_0-x_1)(x_0-x_2)}$\n",
    "\n",
    "$\\mathcal{L}_1 = \\frac{(x-x_0)(x-x_2)}{(x_1-x_0)(x_1-x_2)}$\n",
    "\n",
    "$\\mathcal{L}_2 = \\frac{(x-x_0)(x-x_1)}{(x_2-x_1)(x_2-x_1)}$\n",
    "\n",
    "Asumiendo que los $x_i$ están equiespaciados:\n",
    "\n",
    "$\\mathcal{L}_0 = \\frac{(x-x_1)(x-x_2)}{2h^2}$\n",
    "\n",
    "$\\mathcal{L}_1 = \\frac{(x-x_0)(x-x_2)}{-h^2}$\n",
    "\n",
    "$\\mathcal{L}_2 = \\frac{(x-x_0)(x-x_1)}{2h^2}$\n",
    "\n",
    "Entonces\n",
    "\n",
    "$p_n(x) = \\frac{f(x_0)(x-x_1)(x-x_2)-2f(x_1)(x-x_0)(x-x_2)+f(x_2)(x-x_0)(x-x_1)}{2h^2}$\n",
    "\n"
   ]
  },
  {
   "cell_type": "markdown",
   "metadata": {},
   "source": [
    "### (b)"
   ]
  },
  {
   "cell_type": "markdown",
   "metadata": {},
   "source": [
    "\n",
    "$p_n'(x) = \\frac{((x-x_2)+(x-x_1))f(x_0)+((x-x_0)+(x-x_2)f(x_1)+((x-x_0)+(x-x_1)f(x_2)}{2h^2}$\n",
    "\n",
    "Entonces $p'_n(x_0) = \\frac{-3f(x)+4f(x+h)-f(x+2h)}{2h}$\n"
   ]
  },
  {
   "cell_type": "code",
   "execution_count": 79,
   "metadata": {},
   "outputs": [],
   "source": [
    "# Para punto c,d e\n",
    "h = 0.01\n",
    "x = np.array(np.linspace(0.1,1.1))"
   ]
  },
  {
   "cell_type": "markdown",
   "metadata": {},
   "source": [
    "### (c)"
   ]
  },
  {
   "cell_type": "code",
   "execution_count": 86,
   "metadata": {},
   "outputs": [],
   "source": [
    "def df_prog(f,x,h):\n",
    "    return (-3*np.sqrt(f(x))+4*np.sqrt(f(x+h))-np.sqrt(f(x+2*h)))/(2*h)"
   ]
  },
  {
   "cell_type": "code",
   "execution_count": 98,
   "metadata": {},
   "outputs": [],
   "source": [
    "y_prog = df_prog(np.tan,x,h)"
   ]
  },
  {
   "cell_type": "code",
   "execution_count": 99,
   "metadata": {},
   "outputs": [
    {
     "data": {
      "text/plain": [
       "Text(0.5, 1.0, 'Derivada progresiva de orden $\\\\mathcal{O}(h^2)$')"
      ]
     },
     "execution_count": 99,
     "metadata": {},
     "output_type": "execute_result"
    },
    {
     "data": {
      "image/png": "[encoded data removed]",
      "text/plain": [
       "<Figure size 432x288 with 1 Axes>"
      ]
     },
     "metadata": {
      "needs_background": "light"
     },
     "output_type": "display_data"
    }
   ],
   "source": [
    "plt.scatter(x,y_prog)\n",
    "plt.title(r\"Derivada progresiva de orden $\\mathcal{O}(h^2)$\")"
   ]
  },
  {
   "cell_type": "markdown",
   "metadata": {},
   "source": [
    "### (d)"
   ]
  },
  {
   "cell_type": "code",
   "execution_count": 100,
   "metadata": {},
   "outputs": [],
   "source": [
    "h = 0.01 \n",
    "N = 30\n",
    "X = np.array(np.linspace(0.1,1.1,N))\n",
    "Y = [(lambda x: np.sqrt(np.tan(x)) )(x) for x in X]\n",
    "_x = sym.Symbol('x',real=True)"
   ]
  },
  {
   "cell_type": "markdown",
   "metadata": {},
   "source": [
    "### (e)"
   ]
  },
  {
   "cell_type": "markdown",
   "metadata": {},
   "source": [
    "$Si f(x) = \\sqrt(\\tan(x))$ entonces su derivada $f'(x)$ es $\\frac{1}{2}\\frac{\\sec^2(x)}{\\sqrt(\\tan(x)}$ después de usar la regla de la cadena y teniendo en cuenta que $\\frac{d(\\tan(x))}{dx} = \\sec^2(x)$"
   ]
  },
  {
   "cell_type": "code",
   "execution_count": 90,
   "metadata": {},
   "outputs": [],
   "source": [
    "def df(f,x):\n",
    "    return 0.5*((1/np.cos(x))**2/np.sqrt(np.sqrt(f(x))))"
   ]
  },
  {
   "cell_type": "code",
   "execution_count": 91,
   "metadata": {},
   "outputs": [],
   "source": [
    "y = df(np.tan,x)"
   ]
  },
  {
   "cell_type": "code",
   "execution_count": 97,
   "metadata": {},
   "outputs": [
    {
     "data": {
      "text/plain": [
       "<matplotlib.legend.Legend at 0x1e64d383d08>"
      ]
     },
     "execution_count": 97,
     "metadata": {},
     "output_type": "execute_result"
    },
    {
     "data": {
      "image/png": "[encoded data removed]",
      "text/plain": [
       "<Figure size 432x288 with 1 Axes>"
      ]
     },
     "metadata": {
      "needs_background": "light"
     },
     "output_type": "display_data"
    }
   ],
   "source": [
    "fig,ax = plt.subplots(1,1)\n",
    "\n",
    "ax.scatter(x,y,label=\"analitica\")\n",
    "ax.scatter(x,y_prog,label=\"progresiva\")\n",
    "ax.legend()"
   ]
  },
  {
   "cell_type": "markdown",
   "metadata": {},
   "source": [
    "# ***Raices Polinomios***"
   ]
  },
  {
   "cell_type": "markdown",
   "metadata": {},
   "source": [
    "### **Ejercicio 3**"
   ]
  },
  {
   "cell_type": "markdown",
   "metadata": {},
   "source": [
    "Calcular las raices de $f(x) = 3x^5+5x^4-x^3$ \n",
    "\n",
    "Con Newton Raphson"
   ]
  },
  {
   "cell_type": "code",
   "execution_count": 9,
   "metadata": {},
   "outputs": [],
   "source": [
    "def polinomio(x):\n",
    "    return 3*(x**5)+(5*(x**4))-(x**3)"
   ]
  },
  {
   "cell_type": "code",
   "execution_count": 10,
   "metadata": {},
   "outputs": [],
   "source": [
    "#x = (-5+np.sqrt(37))/6\n",
    "N = 20\n",
    "x = np.linspace(-2,2,N)\n",
    "y = polinomio(x)"
   ]
  },
  {
   "cell_type": "code",
   "execution_count": 43,
   "metadata": {},
   "outputs": [
    {
     "data": {
      "image/png": "[encoded data removed]",
      "text/plain": [
       "<Figure size 432x288 with 1 Axes>"
      ]
     },
     "metadata": {
      "needs_background": "light"
     },
     "output_type": "display_data"
    }
   ],
   "source": [
    "plt.plot(x,y)\n",
    "plt.grid()"
   ]
  },
  {
   "cell_type": "code",
   "execution_count": 72,
   "metadata": {},
   "outputs": [],
   "source": [
    "#Derivada central\n",
    "def Derivative(f,x,h=1e-6):\n",
    "    return (f(x+h)-f(x-h))/(2*h)"
   ]
  },
  {
   "cell_type": "code",
   "execution_count": 79,
   "metadata": {},
   "outputs": [],
   "source": [
    "def GetNewtonMethod(f,df,xn,itmax=100,precision=1e-8):\n",
    "    \n",
    "    error = 1.\n",
    "    it = 0\n",
    "    \n",
    "    while error > precision and it < itmax:\n",
    "        \n",
    "        try:\n",
    "            \n",
    "            xn1 = xn - f(xn)/df(f,xn)\n",
    "            # Criterio de parada\n",
    "            error = np.abs(f(xn)/df(f,xn))\n",
    "            \n",
    "        except ZeroDivisionError:\n",
    "            print('Division por cero')\n",
    "            \n",
    "        xn = xn1\n",
    "        it += 1\n",
    "        \n",
    "   # print('Raiz',xn,it)\n",
    "    \n",
    "    if it == itmax:\n",
    "        return False\n",
    "    else:\n",
    "        return xn\n",
    "\n"
   ]
  },
  {
   "cell_type": "code",
   "execution_count": 86,
   "metadata": {},
   "outputs": [],
   "source": [
    "def GetAllRoots(x, tolerancia=5):\n",
    "    \n",
    "    Roots = np.array([])\n",
    "    \n",
    "    for i in x:\n",
    "        \n",
    "        root = GetNewtonMethod(polinomio,Derivative,i)\n",
    "        \n",
    "        if root != False:\n",
    "            \n",
    "            croot = np.round(root, tolerancia)\n",
    "            \n",
    "            if croot not in Roots:\n",
    "                Roots = np.append(Roots,croot)\n",
    "                \n",
    "    Roots.sort()\n",
    "    \n",
    "    return Roots"
   ]
  },
  {
   "cell_type": "code",
   "execution_count": 87,
   "metadata": {},
   "outputs": [
    {
     "data": {
      "text/plain": [
       "array([-1.84713, -0.     ,  0.18046])"
      ]
     },
     "execution_count": 87,
     "metadata": {},
     "output_type": "execute_result"
    }
   ],
   "source": [
    "x = np.linspace(-2.,0.4,10)\n",
    "Roots = GetAllRoots(x)\n",
    "Roots"
   ]
  },
  {
   "cell_type": "markdown",
   "metadata": {},
   "source": [
    "----"
   ]
  },
  {
   "cell_type": "code",
   "execution_count": 30,
   "metadata": {},
   "outputs": [],
   "source": [
    "def biseccion(a,b,f):\n",
    "    if not f(a)*f(b)<0:\n",
    "        print(\"f(a) y f(b) deben tener signos opuestos\")\n",
    "        return None\n",
    "    #error\n",
    "    e = 1e-2\n",
    "    \n",
    "    centinela = True\n",
    "    while centinela:\n",
    "        c = (b+a)/2\n",
    "        if np.abs(f(c))<e:\n",
    "            raiz = c\n",
    "            centinela=False\n",
    "        \n",
    "        if f(c)*f(a)<0:\n",
    "            b = c\n",
    "        else:\n",
    "            a = c\n",
    "    \n",
    "    return raiz\n",
    "        \n",
    "        "
   ]
  },
  {
   "cell_type": "code",
   "execution_count": 31,
   "metadata": {},
   "outputs": [
    {
     "data": {
      "image/png": "[encoded data removed]",
      "text/latex": [
       "$\\displaystyle -1.846923828125$"
      ],
      "text/plain": [
       "-1.846923828125"
      ]
     },
     "execution_count": 31,
     "metadata": {},
     "output_type": "execute_result"
    }
   ],
   "source": [
    "a = -2\n",
    "b = -0.5\n",
    "biseccion(-2,-0.5, polinomio)"
   ]
  },
  {
   "cell_type": "markdown",
   "metadata": {},
   "source": [
    "# ***Interpolacion de lagrange***"
   ]
  },
  {
   "cell_type": "markdown",
   "metadata": {},
   "source": [
    "### **Ejercicio 4**"
   ]
  },
  {
   "cell_type": "code",
   "execution_count": 3,
   "metadata": {},
   "outputs": [],
   "source": [
    "data = pd.read_csv(\"Parabolico.csv\")\n",
    "X = data.X\n",
    "Y = data.Y"
   ]
  },
  {
   "cell_type": "code",
   "execution_count": 4,
   "metadata": {},
   "outputs": [
    {
     "data": {
      "text/html": [
       "<div>\n",
       "<style scoped>\n",
       "    .dataframe tbody tr th:only-of-type {\n",
       "        vertical-align: middle;\n",
       "    }\n",
       "\n",
       "    .dataframe tbody tr th {\n",
       "        vertical-align: top;\n",
       "    }\n",
       "\n",
       "    .dataframe thead th {\n",
       "        text-align: right;\n",
       "    }\n",
       "</style>\n",
       "<table border=\"1\" class=\"dataframe\">\n",
       "  <thead>\n",
       "    <tr style=\"text-align: right;\">\n",
       "      <th></th>\n",
       "      <th>X</th>\n",
       "      <th>Y</th>\n",
       "    </tr>\n",
       "  </thead>\n",
       "  <tbody>\n",
       "    <tr>\n",
       "      <th>0</th>\n",
       "      <td>1.4</td>\n",
       "      <td>0.400795</td>\n",
       "    </tr>\n",
       "    <tr>\n",
       "      <th>1</th>\n",
       "      <td>3.5</td>\n",
       "      <td>0.594128</td>\n",
       "    </tr>\n",
       "    <tr>\n",
       "      <th>2</th>\n",
       "      <td>5.6</td>\n",
       "      <td>0.298028</td>\n",
       "    </tr>\n",
       "  </tbody>\n",
       "</table>\n",
       "</div>"
      ],
      "text/plain": [
       "     X         Y\n",
       "0  1.4  0.400795\n",
       "1  3.5  0.594128\n",
       "2  5.6  0.298028"
      ]
     },
     "execution_count": 4,
     "metadata": {},
     "output_type": "execute_result"
    }
   ],
   "source": [
    "data"
   ]
  },
  {
   "cell_type": "markdown",
   "metadata": {},
   "source": [
    "Trayectoria de la bala:\n",
    "\n",
    "$y= x_0+v_0t+0.5(-9.8)t^2$ "
   ]
  },
  {
   "cell_type": "code",
   "execution_count": 5,
   "metadata": {},
   "outputs": [
    {
     "data": {
      "image/png": "[encoded data removed]",
      "text/plain": [
       "<Figure size 432x288 with 1 Axes>"
      ]
     },
     "metadata": {
      "needs_background": "light"
     },
     "output_type": "display_data"
    }
   ],
   "source": [
    "plt.plot(data.X,data.Y)\n",
    "plt.grid()"
   ]
  },
  {
   "cell_type": "code",
   "execution_count": 6,
   "metadata": {},
   "outputs": [],
   "source": [
    "def Lagrange(x,X,i):\n",
    "    \n",
    "    L = 1\n",
    "    \n",
    "    for j in range(X.shape[0]):\n",
    "        if i != j:\n",
    "            L *= (x - X[j])/(X[i]-X[j])\n",
    "            \n",
    "    return L"
   ]
  },
  {
   "cell_type": "code",
   "execution_count": 7,
   "metadata": {},
   "outputs": [],
   "source": [
    "def Interpolate(x,X,Y):\n",
    "    \n",
    "    Poly = 0\n",
    "    \n",
    "    for i in range(X.shape[0]):\n",
    "        Poly += Lagrange(x,X,i)*Y[i]\n",
    "        \n",
    "    return Poly"
   ]
  },
  {
   "cell_type": "code",
   "execution_count": 9,
   "metadata": {},
   "outputs": [],
   "source": [
    "x = np.linspace(0,6.,50)\n",
    "y = Interpolate(x,X,Y)"
   ]
  },
  {
   "cell_type": "code",
   "execution_count": 11,
   "metadata": {},
   "outputs": [
    {
     "name": "stderr",
     "output_type": "stream",
     "text": [
      "No handles with labels found to put in legend.\n"
     ]
    },
    {
     "data": {
      "image/png": "[encoded data removed]",
      "text/plain": [
       "<Figure size 432x288 with 1 Axes>"
      ]
     },
     "metadata": {
      "needs_background": "light"
     },
     "output_type": "display_data"
    }
   ],
   "source": [
    "plt.plot(x,y,color='g')\n",
    "plt.scatter(X,Y,color='r',marker='o')\n",
    "plt.legend()\n",
    "plt.grid()"
   ]
  },
  {
   "cell_type": "code",
   "execution_count": 12,
   "metadata": {},
   "outputs": [
    {
     "data": {
      "image/png": "[encoded data removed]",
      "text/latex": [
       "$\\displaystyle - 0.0554912422401579 x^{2} + 0.363970234266202 x + 2.22044604925031 \\cdot 10^{-16}$"
      ],
      "text/plain": [
       "                      2                                             \n",
       "- 0.0554912422401579⋅x  + 0.363970234266202⋅x + 2.22044604925031e-16"
      ]
     },
     "execution_count": 12,
     "metadata": {},
     "output_type": "execute_result"
    }
   ],
   "source": [
    "_x = sym.Symbol('x',real=True)\n",
    "f = Interpolate(_x,X,Y)\n",
    "f = sym.simplify(f)\n",
    "f"
   ]
  },
  {
   "cell_type": "markdown",
   "metadata": {},
   "source": [
    "Usamos\n",
    "\n",
    "$y = x\\tan\\theta-\\frac{9.8x^2}{2v^2\\cos^2(\\theta)}$\n",
    "\n",
    "$\\equiv 1/v^2 =  (x\\tan(\\theta)-y)\\cdot 2\\cos^2(\\theta)/(x^2\\cdot g) $"
   ]
  },
  {
   "cell_type": "code",
   "execution_count": 43,
   "metadata": {},
   "outputs": [],
   "source": [
    "def velocidad_inicial():\n",
    "    theta = np.arctan(0.363970234266202)\n",
    "    v2 = ((X[0]**2)*9.8)/((X[0]*np.tan(theta)-Y[0])*2*np.cos(theta)**2)\n",
    "    \n",
    "    return(np.sqrt(v2),np.degrees(theta))\n",
    "    \n",
    "    "
   ]
  },
  {
   "cell_type": "code",
   "execution_count": 42,
   "metadata": {},
   "outputs": [
    {
     "data": {
      "image/png": "[encoded data removed]",
      "text/latex": [
       "$\\displaystyle \\left( 10.000000000000025, \\  19.999999999999982\\right)$"
      ],
      "text/plain": [
       "(10.000000000000025, 19.999999999999982)"
      ]
     },
     "execution_count": 42,
     "metadata": {},
     "output_type": "execute_result"
    }
   ],
   "source": [
    "velocidad_inicial()"
   ]
  }
 ],
 "metadata": {
  "kernelspec": {
   "display_name": "Python 3",
   "language": "python",
   "name": "python3"
  },
  "language_info": {
   "codemirror_mode": {
    "name": "ipython",
    "version": 3
   },
   "file_extension": ".py",
   "mimetype": "text/x-python",
   "name": "python",
   "nbconvert_exporter": "python",
   "pygments_lexer": "ipython3",
   "version": "3.7.6"
  }
 },
 "nbformat": 4,
 "nbformat_minor": 4
}
