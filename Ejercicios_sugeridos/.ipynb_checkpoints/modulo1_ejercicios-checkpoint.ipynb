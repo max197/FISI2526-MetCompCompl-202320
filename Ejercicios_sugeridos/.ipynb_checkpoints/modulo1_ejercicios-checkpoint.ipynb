{
 "cells": [
  {
   "cell_type": "code",
   "execution_count": 17,
   "metadata": {},
   "outputs": [],
   "source": [
    "import sympy as sym\n",
    "import functions as funcs\n",
    "import numpy as np\n",
    "import matplotlib.pyplot as plt\n",
    "sym.init_printing(use_unicode=True)"
   ]
  },
  {
   "cell_type": "markdown",
   "metadata": {},
   "source": [
    "# ***Ejercicios Deriviacion***\n"
   ]
  },
  {
   "cell_type": "markdown",
   "metadata": {},
   "source": [
    "### Ejercicio 2"
   ]
  },
  {
   "cell_type": "code",
   "execution_count": 15,
   "metadata": {},
   "outputs": [],
   "source": [
    "def funcion(x):\n",
    "    return 1/np.sqrt(1+np.exp(-x**2))"
   ]
  },
  {
   "cell_type": "code",
   "execution_count": 20,
   "metadata": {},
   "outputs": [],
   "source": [
    "x = np.linspace(-10,10,50)\n",
    "y = funcion(x)"
   ]
  },
  {
   "cell_type": "code",
   "execution_count": 47,
   "metadata": {},
   "outputs": [],
   "source": [
    "def Convolucion(f,x,m,h=0.01):\n",
    "    suma = 0\n",
    "    kernel = [1,0,-1]\n",
    "    for n in [-1,0,1]:\n",
    "        #print(suma)\n",
    "        print(f\"m-n: {m-n}\")\n",
    "        print(f\"x[m-n]: = {x[m-n]}\")\n",
    "        print(f\"f(x[m-n]): = {f(x[m-n])}\")\n",
    "        suma+=1/(2*h)*kernel[n+1]*f(x[m-n])\n",
    "    return suma"
   ]
  },
  {
   "cell_type": "code",
   "execution_count": 46,
   "metadata": {},
   "outputs": [
    {
     "name": "stdout",
     "output_type": "stream",
     "text": [
      "m-n: 3\n",
      "x[m-n]: = -8.775510204081632\n",
      "f(x[m-n]): = 1.0\n",
      "m-n: 2\n",
      "x[m-n]: = -9.183673469387756\n",
      "f(x[m-n]): = 1.0\n",
      "m-n: 1\n",
      "x[m-n]: = -9.591836734693878\n",
      "f(x[m-n]): = 1.0\n"
     ]
    },
    {
     "data": {
      "image/png": "[encoded data removed]",
      "text/latex": [
       "$\\displaystyle 0.0$"
      ],
      "text/plain": [
       "0.0"
      ]
     },
     "execution_count": 46,
     "metadata": {},
     "output_type": "execute_result"
    }
   ],
   "source": [
    "Convolucion(funcion,x,2)"
   ]
  },
  {
   "cell_type": "code",
   "execution_count": null,
   "metadata": {},
   "outputs": [],
   "source": [
    "for i in x[2:-2]"
   ]
  },
  {
   "cell_type": "markdown",
   "metadata": {},
   "source": [
    "### Ejercicio 9"
   ]
  },
  {
   "cell_type": "code",
   "execution_count": 8,
   "metadata": {},
   "outputs": [],
   "source": [
    "x = sym.Symbol('x',real= True)\n",
    "h = sym.Symbol('h',real=True)\n",
    "X=[-2*h,-1*h,0*h,1*h,2*h]\n",
    "X = np.array(X)"
   ]
  },
  {
   "cell_type": "code",
   "execution_count": 14,
   "metadata": {},
   "outputs": [],
   "source": [
    "def GetCoefficients(x,p,X):\n",
    "    Coefficients=[]\n",
    "    #print(len(X))\n",
    "    for i in range(len(X)):\n",
    "        Li = funcs.Lagrange(x,X,i)\n",
    "        dLi = sym.diff(Li,x,1)\n",
    "        C = dLi.subs(x,X[p])\n",
    "        Coefficients.append(C)\n",
    "        \n",
    "    return Coefficients\n",
    "        "
   ]
  },
  {
   "cell_type": "code",
   "execution_count": 13,
   "metadata": {},
   "outputs": [
    {
     "name": "stdout",
     "output_type": "stream",
     "text": [
      "5\n"
     ]
    },
    {
     "data": {
      "image/png": "[encoded data removed]",
      "text/latex": [
       "$\\displaystyle \\left[ \\frac{1}{12 h}, \\  - \\frac{2}{3 h}, \\  0, \\  \\frac{2}{3 h}, \\  - \\frac{1}{12 h}\\right]$"
      ],
      "text/plain": [
       "⎡ 1    -2       2   -1  ⎤\n",
       "⎢────, ───, 0, ───, ────⎥\n",
       "⎣12⋅h  3⋅h     3⋅h  12⋅h⎦"
      ]
     },
     "execution_count": 13,
     "metadata": {},
     "output_type": "execute_result"
    }
   ],
   "source": [
    "GetCoefficients(x,2,X)"
   ]
  }
 ],
 "metadata": {
  "kernelspec": {
   "display_name": "Python 3",
   "language": "python",
   "name": "python3"
  },
  "language_info": {
   "codemirror_mode": {
    "name": "ipython",
    "version": 3
   },
   "file_extension": ".py",
   "mimetype": "text/x-python",
   "name": "python",
   "nbconvert_exporter": "python",
   "pygments_lexer": "ipython3",
   "version": "3.7.6"
  }
 },
 "nbformat": 4,
 "nbformat_minor": 4
}
