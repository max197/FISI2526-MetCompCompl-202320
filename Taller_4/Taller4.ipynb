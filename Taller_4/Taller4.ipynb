{
 "cells": [
  {
   "cell_type": "code",
   "execution_count": 2,
   "metadata": {},
   "outputs": [],
   "source": [
    "import numpy as np\n",
    "import math\n",
    "import scipy.special\n",
    "import matplotlib.pyplot as plt\n",
    "import scipy.integrate as integrate"
   ]
  },
  {
   "cell_type": "markdown",
   "metadata": {},
   "source": [
    "---"
   ]
  },
  {
   "cell_type": "markdown",
   "metadata": {},
   "source": [
    "## 1.1"
   ]
  },
  {
   "cell_type": "markdown",
   "metadata": {},
   "source": [
    "### **Respuesta computacional**"
   ]
  },
  {
   "cell_type": "code",
   "execution_count": 13,
   "metadata": {},
   "outputs": [],
   "source": [
    "def crear_baraja():\n",
    "    '''crea una baraja donde las espadas se distinguen con 1, y el resto con 0'''\n",
    "    cartas = np.array([])\n",
    "    cartas = np.append(cartas,np.repeat(1,13))\n",
    "    cartas = np.append(cartas,np.repeat(0,52-13))\n",
    "    return cartas"
   ]
  },
  {
   "cell_type": "markdown",
   "metadata": {},
   "source": [
    "$P(B|A) = P(A \\cap B)/P(A)$"
   ]
  },
  {
   "cell_type": "code",
   "execution_count": 95,
   "metadata": {},
   "outputs": [],
   "source": [
    "def punto1(A,B, N=100000):\n",
    "    '''Primeras A cartas espadas, siguientes B cartas espadas'''\n",
    "    A_ocurrio = 0\n",
    "    A_B_ocurrio = 0\n",
    "\n",
    "    for i in range(N):\n",
    "        cartas = crear_baraja()\n",
    "        np.random.shuffle(cartas)\n",
    "        \n",
    "        if (sum(cartas[0:A]) ==A):\n",
    "            A_ocurrio +=1\n",
    "\n",
    "        if ((sum(cartas[0:A]) ==A ) & (sum(cartas[A:5])==B)):\n",
    "            A_B_ocurrio +=1\n",
    "    \n",
    "    return A_B_ocurrio/A_ocurrio\n",
    "    "
   ]
  },
  {
   "cell_type": "markdown",
   "metadata": {},
   "source": [
    "### a)"
   ]
  },
  {
   "cell_type": "code",
   "execution_count": 97,
   "metadata": {},
   "outputs": [
    {
     "data": {
      "text/plain": [
       "0.008330440819160014"
      ]
     },
     "execution_count": 97,
     "metadata": {},
     "output_type": "execute_result"
    }
   ],
   "source": [
    "#Primeras 2 cartas espadas, siguientes 3 cartas espadas\n",
    "punto1(2,3)"
   ]
  },
  {
   "cell_type": "markdown",
   "metadata": {},
   "source": [
    "### b)"
   ]
  },
  {
   "cell_type": "code",
   "execution_count": 98,
   "metadata": {},
   "outputs": [
    {
     "data": {
      "text/plain": [
       "0.039596273291925464"
      ]
     },
     "execution_count": 98,
     "metadata": {},
     "output_type": "execute_result"
    }
   ],
   "source": [
    "#Primeras 3 cartas espadas, siguientes 2 cartas espadas\n",
    "punto1(3,2)"
   ]
  },
  {
   "cell_type": "markdown",
   "metadata": {},
   "source": [
    "### c)"
   ]
  },
  {
   "cell_type": "code",
   "execution_count": 114,
   "metadata": {},
   "outputs": [
    {
     "data": {
      "text/plain": [
       "0.18867924528301888"
      ]
     },
     "execution_count": 114,
     "metadata": {},
     "output_type": "execute_result"
    }
   ],
   "source": [
    "#Primeras 4 cartas espadas, siguientes 1 cartas espadas\n",
    "punto1(4,1)"
   ]
  },
  {
   "cell_type": "markdown",
   "metadata": {},
   "source": [
    "---"
   ]
  },
  {
   "cell_type": "markdown",
   "metadata": {},
   "source": [
    "## 1.2"
   ]
  },
  {
   "cell_type": "markdown",
   "metadata": {},
   "source": [
    "### **Respuesta teorica**"
   ]
  },
  {
   "cell_type": "markdown",
   "metadata": {},
   "source": [
    "Calculamos P(X=0) = probabilidad de que ninguno se enferme  = probabilidad de que **inoculado** no se enferme (evento A) **y** que **no inoculado** no se enferme (evento B) = $P(A\\cap B) = P(A)*P(B)$ (porque se asume independencia)."
   ]
  },
  {
   "cell_type": "markdown",
   "metadata": {},
   "source": [
    "P(A)= 0.6x0.8+0.4, P(B) = 0.6x0.1+0.4"
   ]
  },
  {
   "cell_type": "code",
   "execution_count": 160,
   "metadata": {},
   "outputs": [
    {
     "data": {
      "text/plain": [
       "0.4048"
      ]
     },
     "execution_count": 160,
     "metadata": {},
     "output_type": "execute_result"
    }
   ],
   "source": [
    "(0.6*0.8+0.4)*(0.6*0.1+0.4)"
   ]
  },
  {
   "cell_type": "markdown",
   "metadata": {},
   "source": [
    "Entonces probabilidad que al menos una de ellas se enferme:"
   ]
  },
  {
   "cell_type": "code",
   "execution_count": 161,
   "metadata": {},
   "outputs": [
    {
     "data": {
      "text/plain": [
       "0.5952"
      ]
     },
     "execution_count": 161,
     "metadata": {},
     "output_type": "execute_result"
    }
   ],
   "source": [
    "#Respuesta\n",
    "1-(0.6*0.8+0.4)*(0.6*0.1+0.4)"
   ]
  },
  {
   "cell_type": "markdown",
   "metadata": {},
   "source": [
    "### **Respuesta computacional**"
   ]
  },
  {
   "cell_type": "code",
   "execution_count": 36,
   "metadata": {},
   "outputs": [],
   "source": [
    "N = 10000000\n",
    "\n",
    "#Distribucion de exposicion al virus. Exito = no contraer\n",
    "no_exposicion = np.random.binomial(1,0.4,size=N)\n",
    "#Distribucion de inoculados segun contraen o no gripa. Exito = no contraer\n",
    "prev_inoculada = np.random.binomial(1,0.8,size=N)\n",
    "#Distribution de no inoculados segun contraen o no gripa. Exito = no contraer\n",
    "prev_noinoculada = np.random.binomial(1,0.1,size=N)"
   ]
  },
  {
   "cell_type": "code",
   "execution_count": 37,
   "metadata": {},
   "outputs": [],
   "source": [
    "#probabilidad de no exposicion al virus\n",
    "p_noexp = sum(no_exposicion)/N\n",
    "#probabilidad de exposicion al virus\n",
    "p_exp = 1- p_noexp\n",
    "\n",
    "#probabilidad de no contraer para los inoculados\n",
    "p_inoc = sum(prev_inoculada)/N\n",
    "#probabilidad de no contraer para los no inoculados\n",
    "p_noinoc = sum(prev_noinoculada)/N"
   ]
  },
  {
   "cell_type": "markdown",
   "metadata": {},
   "source": [
    "Probabilidad de que al menos una de ellas se enferme:"
   ]
  },
  {
   "cell_type": "code",
   "execution_count": 39,
   "metadata": {},
   "outputs": [
    {
     "data": {
      "text/plain": [
       "0.59489"
      ]
     },
     "execution_count": 39,
     "metadata": {},
     "output_type": "execute_result"
    }
   ],
   "source": [
    "result = 1-(p_exp*p_inoc+p_noexp)*(p_exp*p_noinoc+p_noexp)\n",
    "np.round(result,5)"
   ]
  },
  {
   "cell_type": "markdown",
   "metadata": {},
   "source": [
    "----"
   ]
  },
  {
   "cell_type": "markdown",
   "metadata": {},
   "source": [
    "## 2.1"
   ]
  },
  {
   "cell_type": "code",
   "execution_count": 184,
   "metadata": {},
   "outputs": [],
   "source": [
    "##Muestreo 1\n",
    "N1 = 5 \n",
    "a1 = 1 #bueno\n",
    "##Muestreo 2\n",
    "N2 = 25  \n",
    "a2 = 5 #bueno"
   ]
  },
  {
   "cell_type": "code",
   "execution_count": 185,
   "metadata": {},
   "outputs": [
    {
     "data": {
      "text/plain": [
       "<matplotlib.legend.Legend at 0x1d4cd75fa08>"
      ]
     },
     "execution_count": 185,
     "metadata": {},
     "output_type": "execute_result"
    },
    {
     "data": {
      "image/png": "[encoded data removed]",
      "text/plain": [
       "<Figure size 720x360 with 1 Axes>"
      ]
     },
     "metadata": {
      "needs_background": "light"
     },
     "output_type": "display_data"
    }
   ],
   "source": [
    "#p:= piezas defectuosas\n",
    "N = 1000\n",
    "\n",
    "probs = np.linspace(0,1,N)\n",
    "fig,ax = plt.subplots(figsize=(10,5))\n",
    "\n",
    "y1 = []\n",
    "for p in probs:\n",
    "    obs = np.random.binomial(N1,p,N)\n",
    "    exitos = np.where(obs<=a1)\n",
    "    probexito =(exitos[0].shape[0])/N\n",
    "    y1.append(probexito)\n",
    "\n",
    "ax.scatter(probs,y1,label=f'n={N1},a={a1}')\n",
    "\n",
    "\n",
    "y2 = []\n",
    "for p in probs:\n",
    "    obs = np.random.binomial(N2,p,N)\n",
    "    exitos = np.where(obs<=a2)\n",
    "    probexito =(exitos[0].shape[0])/N\n",
    "    y2.append(probexito)\n",
    "\n",
    "ax.scatter(probs,y2,label=f'n={N2},a={a2}')\n",
    "\n",
    "ax.axvline(x=0.1)\n",
    "ax.axvline(x=0.3)\n",
    "ax.legend()"
   ]
  },
  {
   "cell_type": "markdown",
   "metadata": {},
   "source": [
    "a) Si fuera el vendedor produciendo con $p\\in[0,0.10]$ optaria por el plan de muestreo (n=25,a=5), porque en promedio, la probabilidad de aceptacion es mayor en comparacion al otro plan.\n",
    "\n",
    "b)Si fuera un comprador que quisiera protegerse contra la aceptación de lotes con un $p\\in[0.3,1]$, escogería el plan (n=25,a=5), pues en promedio, la probabilidad de aceptación es menor que la del otro plan"
   ]
  },
  {
   "cell_type": "markdown",
   "metadata": {},
   "source": [
    "## 2.2"
   ]
  },
  {
   "cell_type": "markdown",
   "metadata": {},
   "source": [
    "### **a)**"
   ]
  },
  {
   "cell_type": "code",
   "execution_count": 26,
   "metadata": {},
   "outputs": [],
   "source": [
    "N =int(1e6)\n",
    "poisson_events = np.random.poisson(1,N)\n",
    "support = set(poisson_events) "
   ]
  },
  {
   "cell_type": "code",
   "execution_count": 27,
   "metadata": {},
   "outputs": [
    {
     "name": "stdout",
     "output_type": "stream",
     "text": [
      "Respuesta:\n",
      "El menor valor de n es 5.         \n",
      "Con probabilidad 0.003615, hay al menos 5 desconexiones en menos de un periodo de 4 horas\n"
     ]
    }
   ],
   "source": [
    "for s in support:\n",
    "    event = poisson_events[np.where(poisson_events>=s)]\n",
    "    p = len(event)/N\n",
    "    if p<0.01:\n",
    "        print(\"Respuesta:\")\n",
    "        print(f\"El menor valor de n es {s}.\\\n",
    "         \\nCon probabilidad {p}, hay al menos {s} desconexiones en menos de un periodo de 4 horas\")\n",
    "        break"
   ]
  },
  {
   "cell_type": "markdown",
   "metadata": {},
   "source": [
    "### **b)**"
   ]
  },
  {
   "cell_type": "code",
   "execution_count": 35,
   "metadata": {},
   "outputs": [
    {
     "name": "stdout",
     "output_type": "stream",
     "text": [
      "h=0 -> P(Y=0)=1.0\n",
      "h=1 -> P(Y=0)=0.7787232\n",
      "h=2 -> P(Y=0)=0.606408\n",
      "h=3 -> P(Y=0)=0.4725847\n",
      "h=4 -> P(Y=0)=0.3677614\n",
      "h=5 -> P(Y=0)=0.2865534\n",
      "h=6 -> P(Y=0)=0.2231458\n",
      "h=7 -> P(Y=0)=0.1740034\n",
      "h=8 -> P(Y=0)=0.1352531\n",
      "h=9 -> P(Y=0)=0.1052287\n",
      "h=10 -> P(Y=0)=0.0822473\n",
      "h=11 -> P(Y=0)=0.0639479\n",
      "h=12 -> P(Y=0)=0.0496368\n",
      "h=13 -> P(Y=0)=0.0388693\n",
      "h=14 -> P(Y=0)=0.03025\n",
      "h=15 -> P(Y=0)=0.0234768\n",
      "h=16 -> P(Y=0)=0.0182888\n",
      "\n",
      "Respuesta:\n",
      "El menor valor de h es 16.         \n",
      "Con probabilidad 0.0182888, hay 0 desconexiones en un periodo de 16 horas\n"
     ]
    }
   ],
   "source": [
    "for i in range(0,100):\n",
    "    poisson_events = np.random.poisson(i/4,N)\n",
    "    event = poisson_events[np.where(poisson_events==0)]\n",
    "    p = len(event)/N\n",
    "    print(f\"h={i} -> P(Y=0)={p}\")\n",
    "    if p<0.02:\n",
    "        print(\"\\nRespuesta:\")\n",
    "        print(f\"El menor valor de h es {i}.\\\n",
    "         \\nCon probabilidad {p}, hay 0 desconexiones en un periodo de {i} horas\")\n",
    "        break"
   ]
  },
  {
   "cell_type": "markdown",
   "metadata": {},
   "source": [
    "### **c)**"
   ]
  },
  {
   "cell_type": "code",
   "execution_count": 28,
   "metadata": {},
   "outputs": [],
   "source": [
    "N =int(1e7)\n",
    "first_poi = np.random.poisson(1,N)\n",
    "second_poi = np.random.poisson(1,N)\n",
    "third_poi = np.random.poisson(1,N)\n",
    "\n",
    "events = []\n",
    "for i in range(N):\n",
    "    events.append((first_poi[i], second_poi[i], third_poi[i]))"
   ]
  },
  {
   "cell_type": "code",
   "execution_count": 29,
   "metadata": {},
   "outputs": [],
   "source": [
    "counter = 0\n",
    "for e in events:\n",
    "    if e.count(0) == 1:\n",
    "        counter+=1\n",
    "p = counter/N"
   ]
  },
  {
   "cell_type": "markdown",
   "metadata": {},
   "source": [
    "**Respuesta**"
   ]
  },
  {
   "cell_type": "code",
   "execution_count": 30,
   "metadata": {},
   "outputs": [
    {
     "name": "stdout",
     "output_type": "stream",
     "text": [
      "La probabilidad de que en 3 periodos consecutivos de 4h, haya un solo periodo de 4h SIN desconexiones es aprox\n",
      "0.4408637\n"
     ]
    }
   ],
   "source": [
    "print(f\"La probabilidad de que en 3 periodos consecutivos de 4h, haya un solo periodo de 4h SIN desconexiones es aprox\\\n",
    "\\n{p}\")"
   ]
  },
  {
   "cell_type": "markdown",
   "metadata": {},
   "source": [
    "### **d)**"
   ]
  },
  {
   "cell_type": "code",
   "execution_count": 31,
   "metadata": {},
   "outputs": [],
   "source": [
    "counter = 0\n",
    "for e in events:\n",
    "    if sum(e) == 3*1:\n",
    "        counter+=1\n",
    "p=counter/N"
   ]
  },
  {
   "cell_type": "code",
   "execution_count": 32,
   "metadata": {},
   "outputs": [
    {
     "name": "stdout",
     "output_type": "stream",
     "text": [
      "La probabilidad de que el numero de desconexiones en 3 periodos consecutivos de 4h sea igual al numero esperado\n",
      "de desconexiones en 3 periodos consecutivos de 4 horas es: \n",
      "0.2239148\n"
     ]
    }
   ],
   "source": [
    "print(f\"La probabilidad de que el numero de desconexiones en 3 periodos consecutivos de 4h sea igual al numero esperado\\\n",
    "\\nde desconexiones en 3 periodos consecutivos de 4 horas es: \\\n",
    "\\n{p}\")"
   ]
  },
  {
   "cell_type": "markdown",
   "metadata": {},
   "source": [
    "---"
   ]
  },
  {
   "cell_type": "markdown",
   "metadata": {},
   "source": [
    "## 3.1"
   ]
  },
  {
   "cell_type": "code",
   "execution_count": 3,
   "metadata": {},
   "outputs": [],
   "source": [
    "def f(x):\n",
    "    if x>=-1 and x<=2:\n",
    "        return (x**2)/3\n",
    "    else:\n",
    "        return 0"
   ]
  },
  {
   "cell_type": "markdown",
   "metadata": {},
   "source": [
    "Es una funcion de densidad porque la integral en todo el soporte es igual a 1"
   ]
  },
  {
   "cell_type": "code",
   "execution_count": 4,
   "metadata": {},
   "outputs": [
    {
     "data": {
      "text/plain": [
       "1.0"
      ]
     },
     "execution_count": 4,
     "metadata": {},
     "output_type": "execute_result"
    }
   ],
   "source": [
    "np.round(integrate.quad(f, -1, 2)[0],4)"
   ]
  },
  {
   "cell_type": "code",
   "execution_count": 5,
   "metadata": {},
   "outputs": [
    {
     "name": "stdout",
     "output_type": "stream",
     "text": [
      "P(0<X<=1) = 0.11111111111111112\n"
     ]
    }
   ],
   "source": [
    "print(f\"P(0<X<=1) = {integrate.quad(f, 0, 1)[0]}\")"
   ]
  },
  {
   "cell_type": "code",
   "execution_count": 6,
   "metadata": {},
   "outputs": [
    {
     "name": "stdout",
     "output_type": "stream",
     "text": [
      "P(1<X<=2) = 0.7777777777777778\n"
     ]
    }
   ],
   "source": [
    "print(f\"P(1<X<=2) = {integrate.quad(f, 1, 2)[0]}\")"
   ]
  },
  {
   "cell_type": "markdown",
   "metadata": {},
   "source": [
    "## 3.2"
   ]
  },
  {
   "cell_type": "markdown",
   "metadata": {},
   "source": [
    "### **a)**"
   ]
  },
  {
   "cell_type": "code",
   "execution_count": 25,
   "metadata": {},
   "outputs": [],
   "source": [
    "N = 100000\n",
    "sample = np.random.normal(78,6,size = N)"
   ]
  },
  {
   "cell_type": "code",
   "execution_count": 14,
   "metadata": {},
   "outputs": [
    {
     "data": {
      "text/plain": [
       "0.8375"
      ]
     },
     "execution_count": 14,
     "metadata": {},
     "output_type": "execute_result"
    }
   ],
   "source": [
    "A = np.where((sample>=72))[0] #Evento de alcanzar calificaciones mayores a 72\n",
    "len(A)/N"
   ]
  },
  {
   "cell_type": "markdown",
   "metadata": {},
   "source": [
    "### **b)**"
   ]
  },
  {
   "cell_type": "code",
   "execution_count": 72,
   "metadata": {},
   "outputs": [
    {
     "data": {
      "text/plain": [
       "85.68"
      ]
     },
     "execution_count": 72,
     "metadata": {},
     "output_type": "execute_result"
    }
   ],
   "source": [
    "#Respuesta teorica aprox\n",
    "1.28*6+78"
   ]
  },
  {
   "cell_type": "code",
   "execution_count": 50,
   "metadata": {},
   "outputs": [
    {
     "name": "stdout",
     "output_type": "stream",
     "text": [
      "La calificion minima que un estudiante debe recibir para ganar una calificacion de A es aprox: \n",
      "85.73\n"
     ]
    }
   ],
   "source": [
    "#Mi Respuesta\n",
    "sorted_sample = sample.copy()\n",
    "#organizo la muestra\n",
    "sorted_sample.sort()\n",
    "\n",
    "#Percentil 90\n",
    "p90 = sorted_sample[int(N*0.9)]\n",
    "\n",
    "print(f\"La calificion minima que un estudiante debe recibir para ganar una calificacion de A es aprox: \\n{np.round(p90,2)}\")"
   ]
  },
  {
   "cell_type": "markdown",
   "metadata": {},
   "source": [
    "### **c)** "
   ]
  },
  {
   "cell_type": "code",
   "execution_count": 71,
   "metadata": {},
   "outputs": [
    {
     "data": {
      "text/plain": [
       "81.48"
      ]
     },
     "execution_count": 71,
     "metadata": {},
     "output_type": "execute_result"
    }
   ],
   "source": [
    "#Respuesta teorica: 81.48\n",
    "0.58*6+78"
   ]
  },
  {
   "cell_type": "code",
   "execution_count": 51,
   "metadata": {},
   "outputs": [],
   "source": [
    "cutoff = 1-0.281"
   ]
  },
  {
   "cell_type": "code",
   "execution_count": 56,
   "metadata": {},
   "outputs": [
    {
     "name": "stdout",
     "output_type": "stream",
     "text": [
      "El punto limite para pasar al 28.1% mas alto de las calificaciones es \n",
      "81.53\n"
     ]
    }
   ],
   "source": [
    "print(f\"El punto limite para pasar al 28.1% mas alto de las calificaciones es \\n\\\n",
    "{np.round(sorted_sample[int(N*cutoff)],2)}\")"
   ]
  },
  {
   "cell_type": "markdown",
   "metadata": {},
   "source": [
    "### **d)**"
   ]
  },
  {
   "cell_type": "code",
   "execution_count": 69,
   "metadata": {},
   "outputs": [
    {
     "name": "stdout",
     "output_type": "stream",
     "text": [
      "La proporcion de estudiantes que tienen calificaciones de 5 \n",
      "o más puntos arriba del percentil 25 es aprox: \n",
      "0.43472\n"
     ]
    }
   ],
   "source": [
    "p25 = sorted_sample[int(N*0.25)]\n",
    "cutoff = p25+5\n",
    "\n",
    "result = len(sorted_sample[np.where(sorted_sample>=cutoff)])/N\n",
    "\n",
    "print(f\"La proporcion de estudiantes que tienen calificaciones de 5 \\n\\\n",
    "o más puntos arriba del percentil 25 es aprox: \\n{result}\")"
   ]
  },
  {
   "cell_type": "markdown",
   "metadata": {},
   "source": [
    "### **e)**"
   ]
  },
  {
   "cell_type": "code",
   "execution_count": 75,
   "metadata": {},
   "outputs": [],
   "source": [
    "conditional_sample = sorted_sample[np.where(sorted_sample>72)].copy()"
   ]
  },
  {
   "cell_type": "code",
   "execution_count": 82,
   "metadata": {},
   "outputs": [
    {
     "name": "stdout",
     "output_type": "stream",
     "text": [
      "La probabilidad de que la calificacion exceda 84 dado que excede 72 es aprox: \n",
      "0.19\n"
     ]
    }
   ],
   "source": [
    "#\n",
    "exceeds = len(conditional_sample[np.where(conditional_sample>84)])\n",
    "total = len(conditional_sample)\n",
    "p = exceeds/total\n",
    "print(f\"La probabilidad de que la calificacion exceda 84 dado que excede 72 es aprox: \\n{np.round(p,2)}\")"
   ]
  },
  {
   "cell_type": "markdown",
   "metadata": {},
   "source": [
    "----"
   ]
  },
  {
   "cell_type": "markdown",
   "metadata": {},
   "source": [
    "## 4.1"
   ]
  },
  {
   "attachments": {
    "image.png": {
     "image/png": "[encoded data removed]"
    }
   },
   "cell_type": "markdown",
   "metadata": {},
   "source": [
    "![image.png](attachment:image.png)"
   ]
  },
  {
   "cell_type": "code",
   "execution_count": 216,
   "metadata": {},
   "outputs": [],
   "source": [
    "M =np.array([\n",
    "    [.4,.25,.3,.1],\n",
    "    [.2,.25,.3,.1],\n",
    "    [.2,.25,.1,.1],\n",
    "    [.2,.25,.3,.7]\n",
    "    \n",
    "])\n",
    "\n",
    "priori = np.array([.25,0.,.5,.25])"
   ]
  },
  {
   "cell_type": "markdown",
   "metadata": {},
   "source": [
    "probabilidad del gen [T,G,C,T,C,A,A,A]"
   ]
  },
  {
   "cell_type": "code",
   "execution_count": 217,
   "metadata": {},
   "outputs": [
    {
     "name": "stdout",
     "output_type": "stream",
     "text": [
      "priori T: 0.25,T->G 0.1,G->C 0.3,C->T 0.25,T->C 0.1,\n",
      "       C->A 0.25,A->A 0.4,A->A 0.4\n"
     ]
    }
   ],
   "source": [
    "print(f\"priori T: {priori[-1]},T->G {M[2,3]},G->C {M[1,2]},C->T {M[3,1]},T->C {M[1,3]},\\n \\\n",
    "      C->A {M[0,1]},A->A {M[0,0]},A->A {M[0,0]}\")"
   ]
  },
  {
   "cell_type": "code",
   "execution_count": 220,
   "metadata": {},
   "outputs": [
    {
     "data": {
      "text/plain": [
       "7.500000000000001e-06"
      ]
     },
     "execution_count": 220,
     "metadata": {},
     "output_type": "execute_result"
    }
   ],
   "source": [
    "a = priori[-1]*M[2,3]*M[1,2]*M[3,1]*M[1,3]*M[0,1]*M[0,0]*M[0,0]\n",
    "a"
   ]
  },
  {
   "cell_type": "markdown",
   "metadata": {},
   "source": [
    "## 4.2"
   ]
  },
  {
   "cell_type": "code",
   "execution_count": 221,
   "metadata": {},
   "outputs": [],
   "source": [
    "E = np.array([\n",
    "    [.8,0.,0.,.2],\n",
    "    [.05,.9,.1,.1],\n",
    "    [.05,.1,.9,0.],\n",
    "    [.1,.0,.0,.7]\n",
    "])"
   ]
  },
  {
   "cell_type": "markdown",
   "metadata": {},
   "source": [
    "P(A|T)*P(C|G)*P(G|C)*P(A|T)*P(G|C)*P(U|A)*P(U|A)*P(U|A)"
   ]
  },
  {
   "cell_type": "code",
   "execution_count": 225,
   "metadata": {},
   "outputs": [],
   "source": [
    "b = E[3,3]*E[2,2]*E[1,1]*E[3,3]*E[1,1]*E[0,0]*E[0,0]*E[0,0]"
   ]
  },
  {
   "cell_type": "code",
   "execution_count": 226,
   "metadata": {},
   "outputs": [
    {
     "data": {
      "text/plain": [
       "1.3716864000000004e-06"
      ]
     },
     "execution_count": 226,
     "metadata": {},
     "output_type": "execute_result"
    }
   ],
   "source": [
    "b*a"
   ]
  }
 ],
 "metadata": {
  "kernelspec": {
   "display_name": "Python 3",
   "language": "python",
   "name": "python3"
  },
  "language_info": {
   "codemirror_mode": {
    "name": "ipython",
    "version": 3
   },
   "file_extension": ".py",
   "mimetype": "text/x-python",
   "name": "python",
   "nbconvert_exporter": "python",
   "pygments_lexer": "ipython3",
   "version": "3.7.6"
  }
 },
 "nbformat": 4,
 "nbformat_minor": 4
}
