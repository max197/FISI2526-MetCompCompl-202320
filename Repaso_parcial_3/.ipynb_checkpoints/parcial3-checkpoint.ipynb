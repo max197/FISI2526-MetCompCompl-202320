{
 "cells": [
  {
   "cell_type": "code",
   "execution_count": 5,
   "metadata": {},
   "outputs": [],
   "source": [
    "import numpy as np\n",
    "import matplotlib.pyplot as plt\n",
    "import sympy as sym\n"
   ]
  },
  {
   "cell_type": "code",
   "execution_count": 14,
   "metadata": {},
   "outputs": [],
   "source": [
    "x = sym.Symbol('x',real=True)\n",
    "y = sym.Symbol('y',real=True)"
   ]
  },
  {
   "cell_type": "code",
   "execution_count": 15,
   "metadata": {},
   "outputs": [],
   "source": [
    "def f(x,y):\n",
    "    z = x + sym.I*y\n",
    "    f = z**5 - 1\n",
    "    f = f.expand()\n",
    "    return sym.re(f),sym.im(f)\n",
    "\n"
   ]
  },
  {
   "cell_type": "code",
   "execution_count": 16,
   "metadata": {},
   "outputs": [
    {
     "data": {
      "text/plain": [
       "[x**5 - 10*x**3*y**2 + 5*x*y**4 - 1, 5*x**4*y - 10*x**2*y**3 + y**5]"
      ]
     },
     "execution_count": 16,
     "metadata": {},
     "output_type": "execute_result"
    }
   ],
   "source": [
    "f0,f1 = f(x,y)\n",
    "F = [f0,f1]\n",
    "F"
   ]
  },
  {
   "cell_type": "code",
   "execution_count": 17,
   "metadata": {},
   "outputs": [
    {
     "data": {
      "text/latex": [
       "$\\displaystyle \\left[\\begin{matrix}5 x^{4} - 30 x^{2} y^{2} + 5 y^{4} & - 20 x^{3} y + 20 x y^{3}\\\\20 x^{3} y - 20 x y^{3} & 5 x^{4} - 30 x^{2} y^{2} + 5 y^{4}\\end{matrix}\\right]$"
      ],
      "text/plain": [
       "Matrix([\n",
       "[5*x**4 - 30*x**2*y**2 + 5*y**4,         -20*x**3*y + 20*x*y**3],\n",
       "[         20*x**3*y - 20*x*y**3, 5*x**4 - 30*x**2*y**2 + 5*y**4]])"
      ]
     },
     "execution_count": 17,
     "metadata": {},
     "output_type": "execute_result"
    }
   ],
   "source": [
    "J = sym.zeros(2,2)\n",
    "\n",
    "for i in range(2):\n",
    "    for j in range(2):\n",
    "        if j==0:\n",
    "            J[i,j] = sym.diff(F[i],x,1)\n",
    "        else:\n",
    "            J[i,j] = sym.diff(F[i],y,1)\n",
    "\n",
    "J"
   ]
  },
  {
   "cell_type": "code",
   "execution_count": 18,
   "metadata": {},
   "outputs": [
    {
     "data": {
      "text/latex": [
       "$\\displaystyle \\left[\\begin{matrix}\\frac{\\frac{\\left(- 20 x^{3} y + 20 x y^{3}\\right) \\left(20 x^{3} y - 20 x y^{3}\\right)}{\\left(5 x^{4} - 30 x^{2} y^{2} + 5 y^{4}\\right) \\left(5 x^{4} - 30 x^{2} y^{2} + 5 y^{4} - \\frac{\\left(- 20 x^{3} y + 20 x y^{3}\\right) \\left(20 x^{3} y - 20 x y^{3}\\right)}{5 x^{4} - 30 x^{2} y^{2} + 5 y^{4}}\\right)} + 1}{5 x^{4} - 30 x^{2} y^{2} + 5 y^{4}} & - \\frac{- 20 x^{3} y + 20 x y^{3}}{\\left(5 x^{4} - 30 x^{2} y^{2} + 5 y^{4}\\right) \\left(5 x^{4} - 30 x^{2} y^{2} + 5 y^{4} - \\frac{\\left(- 20 x^{3} y + 20 x y^{3}\\right) \\left(20 x^{3} y - 20 x y^{3}\\right)}{5 x^{4} - 30 x^{2} y^{2} + 5 y^{4}}\\right)}\\\\- \\frac{20 x^{3} y - 20 x y^{3}}{\\left(5 x^{4} - 30 x^{2} y^{2} + 5 y^{4}\\right) \\left(5 x^{4} - 30 x^{2} y^{2} + 5 y^{4} - \\frac{\\left(- 20 x^{3} y + 20 x y^{3}\\right) \\left(20 x^{3} y - 20 x y^{3}\\right)}{5 x^{4} - 30 x^{2} y^{2} + 5 y^{4}}\\right)} & \\frac{1}{5 x^{4} - 30 x^{2} y^{2} + 5 y^{4} - \\frac{\\left(- 20 x^{3} y + 20 x y^{3}\\right) \\left(20 x^{3} y - 20 x y^{3}\\right)}{5 x^{4} - 30 x^{2} y^{2} + 5 y^{4}}}\\end{matrix}\\right]$"
      ],
      "text/plain": [
       "Matrix([\n",
       "[((-20*x**3*y + 20*x*y**3)*(20*x**3*y - 20*x*y**3)/((5*x**4 - 30*x**2*y**2 + 5*y**4)*(5*x**4 - 30*x**2*y**2 + 5*y**4 - (-20*x**3*y + 20*x*y**3)*(20*x**3*y - 20*x*y**3)/(5*x**4 - 30*x**2*y**2 + 5*y**4))) + 1)/(5*x**4 - 30*x**2*y**2 + 5*y**4), -(-20*x**3*y + 20*x*y**3)/((5*x**4 - 30*x**2*y**2 + 5*y**4)*(5*x**4 - 30*x**2*y**2 + 5*y**4 - (-20*x**3*y + 20*x*y**3)*(20*x**3*y - 20*x*y**3)/(5*x**4 - 30*x**2*y**2 + 5*y**4)))],\n",
       "[                                                               -(20*x**3*y - 20*x*y**3)/((5*x**4 - 30*x**2*y**2 + 5*y**4)*(5*x**4 - 30*x**2*y**2 + 5*y**4 - (-20*x**3*y + 20*x*y**3)*(20*x**3*y - 20*x*y**3)/(5*x**4 - 30*x**2*y**2 + 5*y**4))),                                                            1/(5*x**4 - 30*x**2*y**2 + 5*y**4 - (-20*x**3*y + 20*x*y**3)*(20*x**3*y - 20*x*y**3)/(5*x**4 - 30*x**2*y**2 + 5*y**4))]])"
      ]
     },
     "execution_count": 18,
     "metadata": {},
     "output_type": "execute_result"
    }
   ],
   "source": [
    "InvJ = J.inv(method='LU')\n",
    "InvJ"
   ]
  },
  {
   "cell_type": "code",
   "execution_count": 19,
   "metadata": {},
   "outputs": [],
   "source": [
    "Fn = sym.lambdify([x,y],F,'numpy')\n",
    "IJn = sym.lambdify([x,y],InvJ,'numpy')"
   ]
  },
  {
   "cell_type": "code",
   "execution_count": 21,
   "metadata": {},
   "outputs": [],
   "source": [
    "def NewtonRaphson(z,Fn,Jn,itmax=100,precision=1e-9):\n",
    "    \n",
    "    error = 1\n",
    "    it = 0\n",
    "    \n",
    "    while error > precision and it < itmax:\n",
    "        \n",
    "        IFn = Fn(z[0],z[1])\n",
    "        IJn = Jn(z[0],z[1])\n",
    "        \n",
    "        z1 = z - np.dot(IJn,IFn)\n",
    "        \n",
    "        error = np.max( np.abs(z1-z) )\n",
    "        \n",
    "        z = z1\n",
    "        it +=1\n",
    "        \n",
    "    print(it)\n",
    "    return z"
   ]
  },
  {
   "cell_type": "code",
   "execution_count": 31,
   "metadata": {},
   "outputs": [
    {
     "name": "stdout",
     "output_type": "stream",
     "text": [
      "7\n"
     ]
    },
    {
     "data": {
      "text/plain": [
       "array([-0.80901699, -0.58778525])"
      ]
     },
     "execution_count": 31,
     "metadata": {},
     "output_type": "execute_result"
    }
   ],
   "source": [
    "z0 = np.array([np.cos(np.pi/5), np.sin(np.pi/5)])\n",
    "zsol = NewtonRaphson(z0,Fn,IJn)\n",
    "zsol"
   ]
  },
  {
   "cell_type": "code",
   "execution_count": 32,
   "metadata": {},
   "outputs": [
    {
     "data": {
      "text/plain": [
       "(0.8090169943749475, 0.5877852522924731)"
      ]
     },
     "execution_count": 32,
     "metadata": {},
     "output_type": "execute_result"
    }
   ],
   "source": [
    "np.cos(np.pi/5), np.sin(np.pi/5)"
   ]
  },
  {
   "cell_type": "markdown",
   "metadata": {},
   "source": [
    "---"
   ]
  },
  {
   "cell_type": "code",
   "execution_count": 6,
   "metadata": {},
   "outputs": [],
   "source": [
    "# Definamos el sistema usando una lista\n",
    "G = np.array([lambda x,y,z: 3*x - np.cos(y*z) - 1.5,\n",
    "     lambda x,y,z: 4*x**2 - 625*y**2+2*y-1,\n",
    "     lambda x,y,z: np.exp(-x*y)+20*z+(10*np.pi-3)/3])"
   ]
  },
  {
   "cell_type": "code",
   "execution_count": 7,
   "metadata": {},
   "outputs": [],
   "source": [
    "def GetF(G,r):\n",
    "    \n",
    "    n = r.shape[0]\n",
    "    \n",
    "    v = np.zeros_like(r)\n",
    "    \n",
    "    for i in range(n):\n",
    "        v[i] = G[i](r[0],r[1],r[2])\n",
    "        \n",
    "    return v"
   ]
  },
  {
   "cell_type": "code",
   "execution_count": 8,
   "metadata": {},
   "outputs": [],
   "source": [
    "def GetJacobian(f,r,h=1e-6):\n",
    "    \n",
    "    n = r.shape[0]\n",
    "    \n",
    "    J = np.zeros((n,n))\n",
    "    \n",
    "    for i in range(n):\n",
    "        for j in range(n):\n",
    "            \n",
    "            rf = r.copy()\n",
    "            rb = r.copy()\n",
    "            \n",
    "            rf[j] = rf[j] + h\n",
    "            rb[j] = rb[j] - h\n",
    "            \n",
    "            J[i,j] = ( f[i](rf[0],rf[1],rf[2]) - f[i](rb[0],rb[1],rb[2])  )/(2*h)\n",
    "            \n",
    "    \n",
    "    return J"
   ]
  },
  {
   "cell_type": "code",
   "execution_count": 11,
   "metadata": {},
   "outputs": [],
   "source": [
    "def NewtonRaphson(G,r,itmax=1000,error=1e-9):\n",
    "    \n",
    "    it = 0\n",
    "    d = 1.\n",
    "    dvector = []\n",
    "    \n",
    "    while d > error and it < itmax:\n",
    "        \n",
    "        # Vector actual\n",
    "        rc = r\n",
    "        \n",
    "        F = GetF(G,rc)\n",
    "        J = GetJacobian(G,rc)\n",
    "        InvJ = np.linalg.inv(J)\n",
    "        \n",
    "        r = rc - np.dot(InvJ,F)\n",
    "        \n",
    "        diff = r - rc\n",
    "        \n",
    "        d = np.max( np.abs(diff) )\n",
    "        \n",
    "        dvector.append(d)\n",
    "\n",
    "        \n",
    "        it += 1\n",
    "    \n",
    "    print(it)\n",
    "    return r,dvector"
   ]
  },
  {
   "cell_type": "code",
   "execution_count": 12,
   "metadata": {},
   "outputs": [
    {
     "name": "stdout",
     "output_type": "stream",
     "text": [
      "9\n"
     ]
    }
   ],
   "source": [
    "r,dvector = NewtonRaphson(G,np.array([0.,0.,0.]))"
   ]
  },
  {
   "cell_type": "code",
   "execution_count": 13,
   "metadata": {},
   "outputs": [
    {
     "data": {
      "text/plain": [
       "array([ 0.83319658,  0.05494366, -0.52136143])"
      ]
     },
     "execution_count": 13,
     "metadata": {},
     "output_type": "execute_result"
    }
   ],
   "source": [
    "r"
   ]
  }
 ],
 "metadata": {
  "kernelspec": {
   "display_name": "Python 3",
   "language": "python",
   "name": "python3"
  },
  "language_info": {
   "codemirror_mode": {
    "name": "ipython",
    "version": 3
   },
   "file_extension": ".py",
   "mimetype": "text/x-python",
   "name": "python",
   "nbconvert_exporter": "python",
   "pygments_lexer": "ipython3",
   "version": "3.7.6"
  }
 },
 "nbformat": 4,
 "nbformat_minor": 4
}
