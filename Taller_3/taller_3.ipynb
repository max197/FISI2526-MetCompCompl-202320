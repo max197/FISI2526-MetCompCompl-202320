{
 "cells": [
  {
   "cell_type": "code",
   "execution_count": 71,
   "metadata": {},
   "outputs": [],
   "source": [
    "import numpy as np"
   ]
  },
  {
   "cell_type": "markdown",
   "metadata": {},
   "source": [
    "---"
   ]
  },
  {
   "cell_type": "markdown",
   "metadata": {},
   "source": [
    "## **1. Algoritmo de multiplcacion de matrices**"
   ]
  },
  {
   "cell_type": "code",
   "execution_count": 72,
   "metadata": {},
   "outputs": [],
   "source": [
    "def matrix_mult(A,B):\n",
    "    '''\n",
    "    A es una matriz nxm B es una matrix mxp\n",
    "    \n",
    "    Metodo retorna la multiplicacion matricial AB\n",
    "    \n",
    "    '''\n",
    "    n = A.shape[0]\n",
    "    m_a = A.shape[1]\n",
    "    \n",
    "    #Si B es un vector columna:\n",
    "    if B.ndim==1:\n",
    "        C = np.zeros(n)\n",
    "        for i in range(m_a):\n",
    "            #Combinacion lineal de los vectores columna de A, y los escalares como entradas de B \n",
    "            C +=B[i]*A[:,i]\n",
    "        return C\n",
    "    \n",
    "    m_b = B.shape[0]\n",
    "    p = B.shape[1]\n",
    "    if m_a!=m_b:\n",
    "        print(\"Dimensiones no coinciden\")\n",
    "        return None\n",
    "    \n",
    "    C = np.zeros((n,p))\n",
    "    \n",
    "    for i in range(n):\n",
    "        for j in range(p):\n",
    "            C[i,j] = np.dot(A[i,:],B[:,j])\n",
    "    return C"
   ]
  },
  {
   "cell_type": "markdown",
   "metadata": {},
   "source": [
    "## **a)**"
   ]
  },
  {
   "cell_type": "code",
   "execution_count": 73,
   "metadata": {},
   "outputs": [
    {
     "data": {
      "text/plain": [
       "array([ 39.,  23.,  12., -42.,  32.])"
      ]
     },
     "execution_count": 73,
     "metadata": {},
     "output_type": "execute_result"
    }
   ],
   "source": [
    "A = np.array([\n",
    "    [5,-4,-2],\n",
    "    [5,-5,4],\n",
    "    [2,5,-4],\n",
    "    [-5,4,3],\n",
    "    [3,-4,-3]\n",
    "]\n",
    ")\n",
    "\n",
    "B = np.array([5,-2,-3])\n",
    "\n",
    "matrix_mult(A,B)"
   ]
  },
  {
   "cell_type": "markdown",
   "metadata": {},
   "source": [
    "## **b)**"
   ]
  },
  {
   "cell_type": "code",
   "execution_count": 74,
   "metadata": {},
   "outputs": [
    {
     "name": "stdout",
     "output_type": "stream",
     "text": [
      "Dimensiones no coinciden\n"
     ]
    }
   ],
   "source": [
    "A = np.array([\n",
    "    [0,-1,-1,3],\n",
    "    [5,-5,-2,2],\n",
    "    [1,0,4,5]\n",
    "])\n",
    "\n",
    "B = np.array([\n",
    "    [0,-3],\n",
    "    [-2,-1],\n",
    "    [3,-3]]\n",
    ")\n",
    "\n",
    "matrix_mult(A,B)"
   ]
  },
  {
   "cell_type": "markdown",
   "metadata": {},
   "source": [
    "## **c)**"
   ]
  },
  {
   "cell_type": "code",
   "execution_count": 75,
   "metadata": {},
   "outputs": [],
   "source": [
    "A = np.array([\n",
    "    [2,-5,5,1],\n",
    "    [5,2,-7,-6],\n",
    "    [-6,-1,7,-4],\n",
    "    [5,4,1,-5]\n",
    "])\n",
    "\n",
    "B = np.array([\n",
    "    [0,4,-7,1,-6],\n",
    "    [-1,-6,-5,1,1],\n",
    "    [2,-1,-6,5,-5],\n",
    "    [3,-6,6,3,5]\n",
    "])"
   ]
  },
  {
   "cell_type": "code",
   "execution_count": 76,
   "metadata": {},
   "outputs": [
    {
     "data": {
      "text/plain": [
       "array([[ 18.,  27., -13.,  25., -37.],\n",
       "       [-34.,  51., -39., -46., -23.],\n",
       "       [  3.,  -1., -19.,  16., -20.],\n",
       "       [-17.,  25., -91.,  -1., -56.]])"
      ]
     },
     "execution_count": 76,
     "metadata": {},
     "output_type": "execute_result"
    }
   ],
   "source": [
    "matrix_mult(A,B)"
   ]
  },
  {
   "cell_type": "markdown",
   "metadata": {},
   "source": [
    "## **Multiplicacion de matrices no es conmutativa**"
   ]
  },
  {
   "cell_type": "code",
   "execution_count": 77,
   "metadata": {},
   "outputs": [],
   "source": [
    "A = np.array([[1,2],\n",
    "            [-1,0]])"
   ]
  },
  {
   "cell_type": "code",
   "execution_count": 78,
   "metadata": {},
   "outputs": [],
   "source": [
    "B = np.array([[0,np.pi],\n",
    "            [-1,0]])"
   ]
  },
  {
   "cell_type": "markdown",
   "metadata": {},
   "source": [
    "----"
   ]
  },
  {
   "cell_type": "markdown",
   "metadata": {},
   "source": [
    "## **2. Reduccion Gaussiana**"
   ]
  },
  {
   "cell_type": "code",
   "execution_count": 79,
   "metadata": {},
   "outputs": [],
   "source": [
    "def triangular(M):\n",
    "    '''Retorna una matriz triangular a partir de la matriz como parametro'''\n",
    "    A = M.copy()\n",
    "    \n",
    "    for i in range(0, M.shape[0]):\n",
    "        pivot = A[i,i]\n",
    "        #print(pivot)\n",
    "        A[i,:]= A[i,:]/A[i,i]\n",
    "        for j in range(i+1,M.shape[0]):\n",
    "            k = A[j,i] \n",
    "            A[j,:]-= k*A[i,:]\n",
    "            \n",
    "    return A"
   ]
  },
  {
   "cell_type": "code",
   "execution_count": 80,
   "metadata": {},
   "outputs": [],
   "source": [
    "def back_substitution(M, b):\n",
    "    '''\n",
    "    Args:\n",
    "        A (np.array): Matriz de coeficientes triangular superior\n",
    "        b (np.arra): vector de constantes\n",
    "        \n",
    "    '''\n",
    "    A= M.copy()\n",
    "    \n",
    "    n = np.shape(A)[0]\n",
    "\n",
    "    x = np.zeros(n)\n",
    "\n",
    "    for i in range(n-1,-1,-1):\n",
    "        sum = b[i]\n",
    "        for j in range(n-1,i,-1):\n",
    "            sum -= A[i,j]*x[j]\n",
    "        x[i] = sum/A[i,i]\n",
    "\n",
    "    return x"
   ]
  },
  {
   "cell_type": "markdown",
   "metadata": {},
   "source": [
    "## **a)**"
   ]
  },
  {
   "cell_type": "code",
   "execution_count": 81,
   "metadata": {},
   "outputs": [],
   "source": [
    "A = np.array([\n",
    "    [3,1,-1],\n",
    "    [1,-2,1],\n",
    "    [4,-1,1]\n",
    "])\n",
    "\n",
    "b = np.array([2,0,3])\n",
    "\n",
    "n = np.shape(A)[0]\n",
    "M = np.zeros(shape=(n,n+1))\n",
    "\n",
    "M[:,0:n] = A\n",
    "M[:,n] = b"
   ]
  },
  {
   "cell_type": "code",
   "execution_count": 82,
   "metadata": {},
   "outputs": [
    {
     "data": {
      "text/plain": [
       "array([[ 1.        ,  0.33333333, -0.33333333,  0.66666667],\n",
       "       [-0.        ,  1.        , -0.57142857,  0.28571429],\n",
       "       [ 0.        ,  0.        ,  1.        ,  1.        ]])"
      ]
     },
     "execution_count": 82,
     "metadata": {},
     "output_type": "execute_result"
    }
   ],
   "source": [
    "C = triangular(M)\n",
    "C"
   ]
  },
  {
   "cell_type": "code",
   "execution_count": 83,
   "metadata": {},
   "outputs": [],
   "source": [
    "A = C[:,:3].copy()\n",
    "b = C[:,3:].copy()"
   ]
  },
  {
   "cell_type": "code",
   "execution_count": 84,
   "metadata": {},
   "outputs": [
    {
     "data": {
      "text/plain": [
       "array([0.71428571, 0.85714286, 1.        ])"
      ]
     },
     "execution_count": 84,
     "metadata": {},
     "output_type": "execute_result"
    }
   ],
   "source": [
    "#Solucion\n",
    "mysol = back_substitution(A,b)\n",
    "mysol"
   ]
  },
  {
   "cell_type": "markdown",
   "metadata": {},
   "source": [
    "## **b)**"
   ]
  },
  {
   "cell_type": "code",
   "execution_count": 85,
   "metadata": {},
   "outputs": [],
   "source": [
    "A = np.array([\n",
    "    [1.0,1.0,1.0],\n",
    "    [0.0,-8.0,10.0],\n",
    "    [4.0,-8.0,0.0]\n",
    "])\n",
    "\n",
    "b = np.array([0,0,6])\n",
    "\n",
    "n = np.shape(A)[0]\n",
    "M = np.zeros(shape=(n,n+1))\n",
    "\n",
    "M[:,0:n] = A\n",
    "M[:,n] = b"
   ]
  },
  {
   "cell_type": "code",
   "execution_count": 86,
   "metadata": {},
   "outputs": [
    {
     "data": {
      "text/plain": [
       "array([[ 1.        ,  1.        ,  1.        ,  0.        ],\n",
       "       [-0.        ,  1.        , -1.25      , -0.        ],\n",
       "       [-0.        , -0.        ,  1.        , -0.31578947]])"
      ]
     },
     "execution_count": 86,
     "metadata": {},
     "output_type": "execute_result"
    }
   ],
   "source": [
    "C = triangular(M)\n",
    "C"
   ]
  },
  {
   "cell_type": "code",
   "execution_count": 87,
   "metadata": {},
   "outputs": [],
   "source": [
    "A = C[:,:3].copy()\n",
    "b = C[:,3:].copy()"
   ]
  },
  {
   "cell_type": "code",
   "execution_count": 88,
   "metadata": {},
   "outputs": [
    {
     "data": {
      "text/plain": [
       "array([ 0.71052632, -0.39473684, -0.31578947])"
      ]
     },
     "execution_count": 88,
     "metadata": {},
     "output_type": "execute_result"
    }
   ],
   "source": [
    "#Solucion\n",
    "mysol = back_substitution(A,b)\n",
    "mysol"
   ]
  },
  {
   "cell_type": "markdown",
   "metadata": {},
   "source": [
    "---"
   ]
  },
  {
   "cell_type": "markdown",
   "metadata": {},
   "source": [
    "## **3. Valores y vectores propios**"
   ]
  },
  {
   "cell_type": "markdown",
   "metadata": {},
   "source": [
    "### **Cuando $\\kappa = 1$**"
   ]
  },
  {
   "cell_type": "code",
   "execution_count": 89,
   "metadata": {},
   "outputs": [],
   "source": [
    "A = np.array([\n",
    "    [-2.0,1.0,0.0],\n",
    "    [1.0,-2.0,1.0],\n",
    "    [0.0,1.0,-2.0]\n",
    "])"
   ]
  },
  {
   "cell_type": "markdown",
   "metadata": {},
   "source": [
    "### **Potencia Maxima**"
   ]
  },
  {
   "cell_type": "code",
   "execution_count": 90,
   "metadata": {},
   "outputs": [],
   "source": [
    "#Algoritmo de la potencia \n",
    "zk = np.array([1.0,1.0,1.0])\n",
    "i = 0\n",
    "while i<20:\n",
    "    #normalizar\n",
    "    zk = (1/np.linalg.norm(zk))*zk\n",
    "    #kesimo vector \n",
    "    zk = A@zk\n",
    "    i+=1"
   ]
  },
  {
   "cell_type": "code",
   "execution_count": 91,
   "metadata": {},
   "outputs": [],
   "source": [
    "valor_propio = ((zk.T@A)@zk)/np.linalg.norm(zk)**2\n",
    "vector_propio = zk"
   ]
  },
  {
   "cell_type": "code",
   "execution_count": 92,
   "metadata": {},
   "outputs": [
    {
     "name": "stdout",
     "output_type": "stream",
     "text": [
      "Max valor propio de A i.e,. potencia maxima: -3.414213562373095\n",
      "Vector propio asociado: [ 1.70710678 -2.41421356  1.70710678]\n"
     ]
    }
   ],
   "source": [
    "print(f\"Max valor propio de A i.e,. potencia maxima: {valor_propio}\")\n",
    "print(f\"Vector propio asociado: {vector_propio}\")"
   ]
  },
  {
   "cell_type": "markdown",
   "metadata": {},
   "source": [
    "**Verificacion**"
   ]
  },
  {
   "cell_type": "code",
   "execution_count": 93,
   "metadata": {},
   "outputs": [
    {
     "data": {
      "text/plain": [
       "array([-5.82842712,  8.24264069, -5.82842712])"
      ]
     },
     "execution_count": 93,
     "metadata": {},
     "output_type": "execute_result"
    }
   ],
   "source": [
    "A@vector_propio"
   ]
  },
  {
   "cell_type": "code",
   "execution_count": 94,
   "metadata": {},
   "outputs": [
    {
     "data": {
      "text/plain": [
       "array([-5.82842712,  8.24264069, -5.82842712])"
      ]
     },
     "execution_count": 94,
     "metadata": {},
     "output_type": "execute_result"
    }
   ],
   "source": [
    "valor_propio*vector_propio"
   ]
  },
  {
   "cell_type": "markdown",
   "metadata": {},
   "source": [
    "### **Potencia Minima**"
   ]
  },
  {
   "cell_type": "code",
   "execution_count": 132,
   "metadata": {},
   "outputs": [],
   "source": [
    "B = np.linalg.inv(A)"
   ]
  },
  {
   "cell_type": "code",
   "execution_count": 133,
   "metadata": {},
   "outputs": [],
   "source": [
    "#Algoritmo de la potencia \n",
    "zk = np.array([1.0,1.0,1.0])\n",
    "i = 0\n",
    "while i<20:\n",
    "    #normalizar\n",
    "    zk = (1/np.linalg.norm(zk))*zk\n",
    "    #kesimo vector \n",
    "    zk = B@zk\n",
    "    i+=1"
   ]
  },
  {
   "cell_type": "code",
   "execution_count": 134,
   "metadata": {},
   "outputs": [
    {
     "data": {
      "text/plain": [
       "-0.5857864376269051"
      ]
     },
     "execution_count": 134,
     "metadata": {},
     "output_type": "execute_result"
    }
   ],
   "source": [
    "#Los valores propios de la inversa de A son los reciprocos de los valores propios de A\n",
    "min_valor_propio= 1/(((zk.T@B)@zk)/np.linalg.norm(zk)**2)\n",
    "min_valor_propio"
   ]
  },
  {
   "cell_type": "code",
   "execution_count": 135,
   "metadata": {},
   "outputs": [
    {
     "data": {
      "text/plain": [
       "array([0.85355339, 1.20710678, 0.85355339])"
      ]
     },
     "execution_count": 135,
     "metadata": {},
     "output_type": "execute_result"
    }
   ],
   "source": [
    "#Si v es un vector propio de A^-1 asociado al valor propio lambda, \n",
    "#entonces v es un vector propio de A asociado al valor propio 1/lambda \n",
    "zk"
   ]
  },
  {
   "cell_type": "markdown",
   "metadata": {},
   "source": [
    "**Verificacion** "
   ]
  },
  {
   "cell_type": "code",
   "execution_count": 136,
   "metadata": {},
   "outputs": [
    {
     "data": {
      "text/plain": [
       "array([-0.5       , -0.70710678, -0.5       ])"
      ]
     },
     "execution_count": 136,
     "metadata": {},
     "output_type": "execute_result"
    }
   ],
   "source": [
    "A@zk"
   ]
  },
  {
   "cell_type": "code",
   "execution_count": 137,
   "metadata": {},
   "outputs": [
    {
     "data": {
      "text/plain": [
       "array([-0.5       , -0.70710678, -0.5       ])"
      ]
     },
     "execution_count": 137,
     "metadata": {},
     "output_type": "execute_result"
    }
   ],
   "source": [
    "min_valor_propio*zk"
   ]
  }
 ],
 "metadata": {
  "kernelspec": {
   "display_name": "Python 3",
   "language": "python",
   "name": "python3"
  },
  "language_info": {
   "codemirror_mode": {
    "name": "ipython",
    "version": 3
   },
   "file_extension": ".py",
   "mimetype": "text/x-python",
   "name": "python",
   "nbconvert_exporter": "python",
   "pygments_lexer": "ipython3",
   "version": "3.7.6"
  }
 },
 "nbformat": 4,
 "nbformat_minor": 4
}
