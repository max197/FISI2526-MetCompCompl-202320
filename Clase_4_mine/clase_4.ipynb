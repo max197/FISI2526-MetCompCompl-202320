{
 "cells": [
  {
   "cell_type": "code",
   "execution_count": 37,
   "metadata": {},
   "outputs": [],
   "source": [
    "import numpy as np\n",
    "from matplotlib import pyplot as plt"
   ]
  },
  {
   "cell_type": "code",
   "execution_count": 38,
   "metadata": {},
   "outputs": [],
   "source": [
    "def posicion(A,k,m,t):\n",
    "    '''\n",
    "    Esta función retorna la posición, x, en un tiempo de de una masa m atada a un\n",
    "    resorte de constante de fuerza k que inicialmente es desplazada A unidades de\n",
    "    su posición de equilibrio. Esta función devuelve el resultado de \n",
    "\n",
    "    $A\\sin (\\omega t)$ donde $\\omega = \\sqrt{\\frac{k}{m}}$\n",
    "\n",
    "    Parámetros\n",
    "    ----------\n",
    "    A: float\n",
    "        La amplitud o desplazamiento inicial de la masa.\n",
    "    k: float\n",
    "        La constante de fuerza del resorte.\n",
    "    m: float\n",
    "        La masa del objeto.\n",
    "    t: float\n",
    "        El tiempo en el cual se quiere calcular la posición.\n",
    "    '''\n",
    "    omega = np.sqrt(k/m)\n",
    "    return A*np.sin(omega*t)"
   ]
  },
  {
   "cell_type": "code",
   "execution_count": 39,
   "metadata": {},
   "outputs": [],
   "source": [
    "N = 40\n",
    "t = np.linspace(-4*np.pi,4*np.pi,N)\n",
    "position = posicion(A=2,k=800,m=2,t=t)"
   ]
  },
  {
   "cell_type": "code",
   "execution_count": 40,
   "metadata": {},
   "outputs": [
    {
     "data": {
      "text/plain": [
       "<matplotlib.collections.PathCollection at 0x178d64b8cc8>"
      ]
     },
     "execution_count": 40,
     "metadata": {},
     "output_type": "execute_result"
    },
    {
     "data": {
      "image/png": "[encoded data removed]",
      "text/plain": [
       "<Figure size 432x288 with 1 Axes>"
      ]
     },
     "metadata": {
      "needs_background": "light"
     },
     "output_type": "display_data"
    }
   ],
   "source": [
    "plt.scatter(t,position)"
   ]
  },
  {
   "cell_type": "code",
   "execution_count": 41,
   "metadata": {},
   "outputs": [],
   "source": [
    "h = 0.01"
   ]
  },
  {
   "cell_type": "code",
   "execution_count": 42,
   "metadata": {},
   "outputs": [],
   "source": [
    "y = position"
   ]
  },
  {
   "cell_type": "code",
   "execution_count": 43,
   "metadata": {},
   "outputs": [],
   "source": [
    "def ArrayDerivative(y,t,h):\n",
    "    (y[t+h]-y[t])/()\n",
    "    "
   ]
  },
  {
   "cell_type": "code",
   "execution_count": 44,
   "metadata": {},
   "outputs": [],
   "source": [
    "def DerivadaDerecha(f,x,h):\n",
    "    \n",
    "    d = 0.\n",
    "    \n",
    "    if h != 0:\n",
    "        d = (f(t=x+h,A=2,k=800,m=2)-f(t=x, A=2, k=800,m=2))/h\n",
    "        \n",
    "    return d"
   ]
  },
  {
   "cell_type": "code",
   "execution_count": 45,
   "metadata": {},
   "outputs": [],
   "source": [
    "def DerivadaIzquierda(f,x,h):\n",
    "    \n",
    "    d = 0.\n",
    "    \n",
    "    if h != 0:\n",
    "        d = (f(t=x,A=2,k=800,m=2) - f(t=x-h,A=2,k=800,m=2))/h\n",
    "        \n",
    "    return d"
   ]
  },
  {
   "cell_type": "code",
   "execution_count": 46,
   "metadata": {},
   "outputs": [],
   "source": [
    "def DerivadaCentral(f,x,h):\n",
    "    d = 0.\n",
    "    \n",
    "    if h != 0:\n",
    "        d = (f(t=x+h,A=2,k=800,m=2) - f(t =x-h,A=2,k=800,m=2))/(2*h)\n",
    "        \n",
    "    return d"
   ]
  },
  {
   "cell_type": "code",
   "execution_count": 47,
   "metadata": {},
   "outputs": [],
   "source": [
    "def ExactDerivative(A,k,m,t):\n",
    "    omega = np.sqrt(k/m)\n",
    "    return A*omega*np.cos(omega*t)"
   ]
  },
  {
   "cell_type": "code",
   "execution_count": 48,
   "metadata": {},
   "outputs": [],
   "source": [
    "EDerivative = ExactDerivative(A=2,k=800,m=2,t=t)"
   ]
  },
  {
   "cell_type": "code",
   "execution_count": 49,
   "metadata": {},
   "outputs": [],
   "source": [
    "CDerivative = DerivadaCentral(posicion,t,h)\n",
    "LDerivative = DerivadaIzquierda(posicion,t,h)\n",
    "RDerivative = DerivadaDerecha(posicion,t,h)"
   ]
  },
  {
   "cell_type": "code",
   "execution_count": 50,
   "metadata": {},
   "outputs": [
    {
     "data": {
      "text/plain": [
       "array([ 39.73386616,  36.42656467,  29.36998193,  19.29043165,\n",
       "         7.22537287,  -5.5833727 , -17.81743782, -28.21760545,\n",
       "       -35.71341633, -39.53334825, -39.28422666, -34.9916929 ,\n",
       "       -27.09756511, -16.41436308,  -4.04167801,   8.74700533,\n",
       "        20.63538464,  30.39982332,  37.03529585,  39.85883218,\n",
       "        38.57981387,  33.32988658,  24.64941018,  13.43184108,\n",
       "         0.83177131, -11.85391028, -23.31950307, -32.38488666,\n",
       "       -38.11698726, -39.92581629, -37.62519619, -31.45192315,\n",
       "       -22.04139436, -10.36220842,   2.38352975,  14.88393808,\n",
       "        25.85238558,  34.1599216 ,  38.95147539,  39.73386616])"
      ]
     },
     "execution_count": 50,
     "metadata": {},
     "output_type": "execute_result"
    }
   ],
   "source": [
    "RDerivative"
   ]
  },
  {
   "cell_type": "code",
   "execution_count": 55,
   "metadata": {},
   "outputs": [
    {
     "data": {
      "text/plain": [
       "<matplotlib.legend.Legend at 0x178d93eb9c8>"
      ]
     },
     "execution_count": 55,
     "metadata": {},
     "output_type": "execute_result"
    },
    {
     "data": {
      "image/png": "[encoded data removed]",
      "text/plain": [
       "<Figure size 1080x360 with 2 Axes>"
      ]
     },
     "metadata": {
      "needs_background": "light"
     },
     "output_type": "display_data"
    }
   ],
   "source": [
    "fig, ax = plt.subplots(1,2,figsize=(15,5))\n",
    "\n",
    "ax[0].scatter(t,RDerivative,label='Derivada Derecha')\n",
    "ax[0].scatter(t,LDerivative,label='Derivada Izquierda')\n",
    "ax[0].scatter(t,CDerivative,label='Derivada Central')\n",
    "ax[0].plot(t,EDerivative,label='Exacta')\n",
    "ax[0].legend(loc = 'upper right')"
   ]
  },
  {
   "cell_type": "code",
   "execution_count": 56,
   "metadata": {},
   "outputs": [
    {
     "data": {
      "text/plain": [
       "array([ 40.        ,  37.94145768,  31.97771054,  22.72258987,\n",
       "        11.12869856,  -1.6106376 , -14.18419548, -25.29781502,\n",
       "       -33.80760342, -38.8376727 , -39.87029233, -36.79917775,\n",
       "       -29.94042993, -20.        ,  -8.00102775,   4.82146721,\n",
       "        17.14770246,  27.70897414,  35.41824103,  39.48201051,\n",
       "        39.48201051,  35.41824103,  27.70897414,  17.14770246,\n",
       "         4.82146721,  -8.00102775, -20.        , -29.94042993,\n",
       "       -36.79917775, -39.87029233, -38.8376727 , -33.80760342,\n",
       "       -25.29781502, -14.18419548,  -1.6106376 ,  11.12869856,\n",
       "        22.72258987,  31.97771054,  37.94145768,  40.        ])"
      ]
     },
     "execution_count": 56,
     "metadata": {},
     "output_type": "execute_result"
    }
   ],
   "source": [
    "EDerivative"
   ]
  },
  {
   "cell_type": "code",
   "execution_count": null,
   "metadata": {},
   "outputs": [],
   "source": []
  }
 ],
 "metadata": {
  "kernelspec": {
   "display_name": "Python 3",
   "language": "python",
   "name": "python3"
  },
  "language_info": {
   "codemirror_mode": {
    "name": "ipython",
    "version": 3
   },
   "file_extension": ".py",
   "mimetype": "text/x-python",
   "name": "python",
   "nbconvert_exporter": "python",
   "pygments_lexer": "ipython3",
   "version": "3.7.6"
  }
 },
 "nbformat": 4,
 "nbformat_minor": 4
}
