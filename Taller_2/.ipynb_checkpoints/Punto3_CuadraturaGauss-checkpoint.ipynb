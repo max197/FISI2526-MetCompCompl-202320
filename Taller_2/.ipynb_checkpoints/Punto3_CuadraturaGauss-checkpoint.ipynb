{
 "cells": [
  {
   "cell_type": "markdown",
   "metadata": {},
   "source": [
    "# Cuadratura Gaussiana"
   ]
  },
  {
   "cell_type": "code",
   "execution_count": 63,
   "metadata": {},
   "outputs": [],
   "source": [
    "import numpy as np\n",
    "import sympy as sym"
   ]
  },
  {
   "cell_type": "code",
   "execution_count": 62,
   "metadata": {},
   "outputs": [],
   "source": [
    "x = sym.Symbol('x',real=True)\n",
    "y = sym.Symbol('y',real=True)"
   ]
  },
  {
   "cell_type": "markdown",
   "metadata": {},
   "source": [
    "Seguimos con el problema de integrar una función $f(x)$ en cierto intervalo \\[a,b\\] mediante su cuadratura. Es decir, realizando una suma con pesos de la función en ciertos nodos\n",
    "\n",
    "$$\\begin{align*}\n",
    "\\int_a^b f(x) dx = \\sum_{k=0}^{n-1} c_k f(x_k)\n",
    "\\end{align*}\n",
    "$$"
   ]
  },
  {
   "cell_type": "markdown",
   "metadata": {},
   "source": [
    "## Gauss-Legendre"
   ]
  },
  {
   "cell_type": "markdown",
   "metadata": {},
   "source": [
    "La aproximación de Gauss-Legendre consiste en encontrar los $k$ nodos y pesos tal que \n",
    "    $$ \\begin{align*}\n",
    "        \\int_{-1}^1 f(x) dx &= \\sum_{k=0}^{n-1} c_k f(x_k) \n",
    "    \\end{align*}$$\n",
    "    Se puede demostrar que para $n$ nodos, estos están dados por los ceros de los *Polinomios de Legendre*, definidos mediante la fórmula de Rodrigues como\n",
    "\n",
    "$$ \\begin{align*}\n",
    "P_n(x) &= \\frac{1}{2^n n!} \\frac{d^n}{dx^n}(x^2-1)^n\n",
    "\\end{align*} $$\n",
    "\n",
    "A partir de esto, se puede crear una función en Python que retorne el $n$-ésimo polinomio de Legendre."
   ]
  },
  {
   "cell_type": "code",
   "execution_count": 3,
   "metadata": {},
   "outputs": [],
   "source": [
    "def GetLegendre(n,x,y):\n",
    "    \n",
    "    y = (x**2 - 1)**n\n",
    "    \n",
    "    poly = sym.diff( y,x,n )/(2**n*np.math.factorial(n))\n",
    "    \n",
    "    return poly"
   ]
  },
  {
   "cell_type": "markdown",
   "metadata": {},
   "source": [
    "Los polinomios de Legendre también satisfacen la ecuación de recursión\n",
    "\n",
    "$$\n",
    "\\begin{align*}\n",
    "(n+1)P_{n+1}(x) &= (2n+1)xP_n(x)-nP_{n-1}(x),\n",
    "\\end{align*}\n",
    "$$\n",
    "\n",
    "por lo que se puede escribir la función anterior de forma recursiva."
   ]
  },
  {
   "cell_type": "code",
   "execution_count": 4,
   "metadata": {},
   "outputs": [],
   "source": [
    "def GetLegendreRecursive(n,x):\n",
    "\n",
    "    if n==0:\n",
    "        poly = sym.Number(1)\n",
    "    elif n==1:\n",
    "        poly = x\n",
    "    else:\n",
    "        poly = ((2*n-1)*x*GetLegendreRecursive(n-1,x)-(n-1)*GetLegendreRecursive(n-2,x))/n\n",
    "   \n",
    "    return sym.expand(poly,x)"
   ]
  },
  {
   "cell_type": "markdown",
   "metadata": {},
   "source": [
    "Veamos un ejemplo de estos polinomios para distintos $n$,"
   ]
  },
  {
   "cell_type": "code",
   "execution_count": 5,
   "metadata": {},
   "outputs": [
    {
     "data": {
      "text/latex": [
       "$\\displaystyle 1$"
      ],
      "text/plain": [
       "1"
      ]
     },
     "execution_count": 5,
     "metadata": {},
     "output_type": "execute_result"
    }
   ],
   "source": [
    "GetLegendreRecursive(0,x)"
   ]
  },
  {
   "cell_type": "code",
   "execution_count": 6,
   "metadata": {},
   "outputs": [
    {
     "data": {
      "text/latex": [
       "$\\displaystyle x$"
      ],
      "text/plain": [
       "x"
      ]
     },
     "execution_count": 6,
     "metadata": {},
     "output_type": "execute_result"
    }
   ],
   "source": [
    "GetLegendreRecursive(1,x)"
   ]
  },
  {
   "cell_type": "code",
   "execution_count": 7,
   "metadata": {},
   "outputs": [
    {
     "data": {
      "text/latex": [
       "$\\displaystyle \\frac{5 x^{3}}{2} - \\frac{3 x}{2}$"
      ],
      "text/plain": [
       "5*x**3/2 - 3*x/2"
      ]
     },
     "execution_count": 7,
     "metadata": {},
     "output_type": "execute_result"
    }
   ],
   "source": [
    "GetLegendreRecursive(3,x)"
   ]
  },
  {
   "cell_type": "markdown",
   "metadata": {},
   "source": [
    "Para encontrar sus ceros, utilizamos el método de Newton-Rhapson teniendo en cuenta que el $n$-ésimo polinomio tendrá $n$ raíces. Antes de eso, encontremos la derivada de Legendre,"
   ]
  },
  {
   "cell_type": "code",
   "execution_count": 8,
   "metadata": {},
   "outputs": [],
   "source": [
    "def GetDLegendre(n,x):\n",
    "    Pn = GetLegendreRecursive(n,x)\n",
    "    return sym.diff(Pn,x,1)"
   ]
  },
  {
   "cell_type": "code",
   "execution_count": 65,
   "metadata": {},
   "outputs": [],
   "source": [
    "def GetNewton(f,df,xn,itmax=10000,precision=1e-14):\n",
    "    \n",
    "    error = 1.\n",
    "    it = 0\n",
    "    \n",
    "    while error >= precision and it < itmax:\n",
    "        \n",
    "        try:\n",
    "            \n",
    "            xn1 = xn - f(xn)/df(xn)\n",
    "            \n",
    "            error = np.abs(f(xn)/df(xn))\n",
    "            \n",
    "        except ZeroDivisionError:\n",
    "            print('Zero Division')\n",
    "            \n",
    "        xn = xn1\n",
    "        it += 1\n",
    "        \n",
    "    if it == itmax:\n",
    "        return False\n",
    "    else:\n",
    "        return xn"
   ]
  },
  {
   "cell_type": "code",
   "execution_count": 10,
   "metadata": {},
   "outputs": [],
   "source": [
    "def GetRoots(f,df,x,tolerancia = 10):\n",
    "    \n",
    "    Roots = np.array([])\n",
    "    \n",
    "    for i in x:\n",
    "        \n",
    "        root = GetNewton(f,df,i)\n",
    "\n",
    "        if  type(root)!=bool:\n",
    "            croot = np.round( root, tolerancia )\n",
    "            \n",
    "            if croot not in Roots:\n",
    "                Roots = np.append(Roots, croot)\n",
    "                \n",
    "    Roots.sort()\n",
    "    \n",
    "    return Roots"
   ]
  },
  {
   "cell_type": "code",
   "execution_count": 11,
   "metadata": {},
   "outputs": [],
   "source": [
    "def GetAllRootsGLeg(n):\n",
    "\n",
    "    xn = np.linspace(-1,1,100)\n",
    "    \n",
    "    Legendre = []\n",
    "    DLegendre = []\n",
    "    \n",
    "    for i in range(n+1):\n",
    "        Legendre.append(GetLegendreRecursive(i,x))\n",
    "        DLegendre.append(GetDLegendre(i,x))\n",
    "    \n",
    "    poly = sym.lambdify([x],Legendre[n],'numpy')\n",
    "    Dpoly = sym.lambdify([x],DLegendre[n],'numpy')\n",
    "    Roots = GetRoots(poly,Dpoly,xn)\n",
    "\n",
    "    if len(Roots) != n:\n",
    "        ValueError('El número de raíces debe ser igual al n del polinomio.')\n",
    "    \n",
    "    return Roots"
   ]
  },
  {
   "cell_type": "code",
   "execution_count": 12,
   "metadata": {},
   "outputs": [
    {
     "data": {
      "text/plain": [
       "array([-0.77459667,  0.        ,  0.77459667])"
      ]
     },
     "execution_count": 12,
     "metadata": {},
     "output_type": "execute_result"
    }
   ],
   "source": [
    "GetAllRootsGLeg(3)"
   ]
  },
  {
   "cell_type": "markdown",
   "metadata": {},
   "source": [
    "Los pesos de Gauss-Legendre están dados a su vez por \n",
    "    $$ \\begin{align*}\n",
    "        c_k &= \\frac{2}{(1-x_k^2)[P_n'(x_k)]^2}\n",
    "    \\end{align*}$$\n",
    "    donde $x_k$ es el $k$-ésimo cero del polinomio $n$-ésimo de Legendre, por lo que se puede escribir una función en python que dado un $n$, retorne el arreglo de pesos de Gauss-Legendre. "
   ]
  },
  {
   "cell_type": "code",
   "execution_count": 13,
   "metadata": {},
   "outputs": [],
   "source": [
    "def GetWeightsGLeg(n):\n",
    "\n",
    "    Roots = GetAllRootsGLeg(n)\n",
    "\n",
    "    \n",
    "\n",
    "    DLegendre = []\n",
    "    \n",
    "    for i in range(n+1):\n",
    "        DLegendre.append(GetDLegendre(i,x))\n",
    "    \n",
    "    Dpoly = sym.lambdify([x],DLegendre[n],'numpy')\n",
    "    Weights = 2/((1-Roots**2)*Dpoly(Roots)**2)\n",
    "    \n",
    "    return Weights"
   ]
  },
  {
   "cell_type": "code",
   "execution_count": 14,
   "metadata": {},
   "outputs": [],
   "source": [
    "raices = GetAllRootsGLeg(5)"
   ]
  },
  {
   "cell_type": "code",
   "execution_count": 15,
   "metadata": {},
   "outputs": [],
   "source": [
    "pesos = GetWeightsGLeg(5)"
   ]
  },
  {
   "cell_type": "code",
   "execution_count": 16,
   "metadata": {},
   "outputs": [],
   "source": [
    "funcion = lambda x: x**4"
   ]
  },
  {
   "cell_type": "code",
   "execution_count": 17,
   "metadata": {},
   "outputs": [],
   "source": [
    "I = 0\n",
    "for i in range(5):\n",
    "    I += pesos[i]*funcion(raices[i])"
   ]
  },
  {
   "cell_type": "code",
   "execution_count": 18,
   "metadata": {},
   "outputs": [
    {
     "data": {
      "text/plain": [
       "0.40000000006796044"
      ]
     },
     "execution_count": 18,
     "metadata": {},
     "output_type": "execute_result"
    }
   ],
   "source": [
    "I"
   ]
  },
  {
   "cell_type": "markdown",
   "metadata": {},
   "source": [
    "---"
   ]
  },
  {
   "cell_type": "markdown",
   "metadata": {},
   "source": [
    "## Gauss-Laguerrre"
   ]
  },
  {
   "cell_type": "markdown",
   "metadata": {},
   "source": [
    "La aproximación de Gauss-Laguerre consiste en encontrar los $k$ nodos y pesos tal que \n",
    "    $$ \\begin{align*}\n",
    "        \\int_{0}^\\infty e^{-x} f(x) dx &= \\sum_{k=0}^{n-1} c_k f(x_k) \n",
    "    \\end{align*}$$\n",
    "    Se puede demostrar que para $n$ nodos, estos están dados por los ceros de los *Polinomios de Laguerre*, definidos mediante la fórmula de Rodrigues como\n",
    "\n",
    "$$ \\begin{align*}\n",
    "L_n(x) &= \\frac{e^x}{n!} \\frac{d^n}{dx^n}(e^{-x}x^n)\n",
    "\\end{align*} $$\n",
    "\n",
    "A partir de esto, se puede crear una función en Python que retorne el $n$-ésimo polinomio de Laguerre. Los polinomios de Laguerre también satisfacen la ecuación de recursión\n",
    "\n",
    "$$\n",
    "\\begin{align*}\n",
    "L_{k+1} &= \\frac{(2k+1-x)L_k(x)-kL_{k-1}(x)}{k+1}\n",
    "\\end{align*}\n",
    "$$\n",
    "\n",
    "por lo que se puede escribir la función anterior de forma recursiva teniendo en cuenta que $L_0(x)=1, L_1(x)=1-x$.\n",
    "\n",
    "**Ejercicio 3.1**\n",
    "1. Escriba una función `GetLaguerre(n,x)` que retorne el $n$-ésimo polinomio de Laguerre de forma recursiva.\n",
    "2. Escriba una función `GetAllRootsGLag(n)` que encuentre todas las raíces del $n$-ésimo polinomio de Laguerre. Para esto, utilize el hecho de que las raíces están acotadas en el intervalo $(0,n+(n-1)\\sqrt{n})$\n",
    "3. Escriba una función `GetWeightsGLag(n)` que encuentre los $n$-pesos del $n$-ésimo polinomio de Laguerre. Tenga en cuenta que estos pesos están dados por \n",
    "$$\n",
    "\\begin{align*}\n",
    "c_k &= \\frac{x_k}{(n+1)^2 [L_{n+1}(x_k)]^2}\n",
    "\\end{align*}\n",
    "$$\n"
   ]
  },
  {
   "cell_type": "markdown",
   "metadata": {},
   "source": [
    "### **1**"
   ]
  },
  {
   "cell_type": "code",
   "execution_count": 57,
   "metadata": {},
   "outputs": [],
   "source": [
    "def GetLaguerre(n,x):\n",
    "    \n",
    "    if n==0:\n",
    "        return 1\n",
    "    \n",
    "    elif n==1:\n",
    "        return 1-x\n",
    "    \n",
    "    else:\n",
    "        poly = ((2*(n-1)+1-x)*GetLaguerre(n-1,x)-(n-1)*GetLaguerre(n-2,x))/n\n",
    "        return poly\n",
    "    \n",
    "        \n",
    "    print(\"error\")\n",
    "    "
   ]
  },
  {
   "cell_type": "markdown",
   "metadata": {},
   "source": [
    "### **Ejemplo:** Polinomio Laguerre de grado 2"
   ]
  },
  {
   "cell_type": "code",
   "execution_count": 43,
   "metadata": {},
   "outputs": [
    {
     "data": {
      "text/latex": [
       "$\\displaystyle \\frac{\\left(1 - x\\right) \\left(3 - x\\right)}{2} - \\frac{1}{2}$"
      ],
      "text/plain": [
       "(1 - x)*(3 - x)/2 - 1/2"
      ]
     },
     "execution_count": 43,
     "metadata": {},
     "output_type": "execute_result"
    }
   ],
   "source": [
    "GetLaguerre(2,x)"
   ]
  },
  {
   "cell_type": "markdown",
   "metadata": {},
   "source": [
    "### **2**"
   ]
  },
  {
   "cell_type": "code",
   "execution_count": 58,
   "metadata": {},
   "outputs": [],
   "source": [
    "def GetAllRootsGlag(n):\n",
    "    \n",
    "    tolerancia = 14\n",
    "    xn = np.linspace(0,n+(n-1)*np.sqrt(n),50)\n",
    "    \n",
    "    poly = GetLaguerre(n,x)\n",
    "    df_poly = sym.diff(poly,x,1)\n",
    "    \n",
    "    poly = sym.lambdify(x,poly,'numpy')\n",
    "    df_poly = sym.lambdify(x,df_poly,'numpy')\n",
    "    \n",
    "    Roots = np.array([])\n",
    "    \n",
    "    for i in xn:\n",
    "        \n",
    "        root = GetNewton(poly,df_poly,i)\n",
    "        #print(type(root))\n",
    "        if  type(root)!=bool:\n",
    "            croot = np.round(root, tolerancia)\n",
    "            if croot not in Roots:\n",
    "                Roots = np.append(Roots, croot)\n",
    "                \n",
    "    Roots.sort()\n",
    "    \n",
    "    return Roots"
   ]
  },
  {
   "cell_type": "markdown",
   "metadata": {},
   "source": [
    "### **Ejemplo:** Raices del polinomio de Laguerre de grado 2"
   ]
  },
  {
   "cell_type": "code",
   "execution_count": 95,
   "metadata": {},
   "outputs": [
    {
     "data": {
      "text/plain": [
       "array([0.58578644, 3.41421356])"
      ]
     },
     "execution_count": 95,
     "metadata": {},
     "output_type": "execute_result"
    }
   ],
   "source": [
    "GetAllRootsGlag(2)"
   ]
  },
  {
   "cell_type": "markdown",
   "metadata": {},
   "source": [
    "### **3**"
   ]
  },
  {
   "cell_type": "markdown",
   "metadata": {},
   "source": [
    "$$\n",
    "\\begin{align*}\n",
    "c_k &= \\frac{x_k}{(n+1)^2 [L_{n+1}(x_k)]^2}\n",
    "\\end{align*}\n",
    "$$\n"
   ]
  },
  {
   "cell_type": "code",
   "execution_count": 59,
   "metadata": {},
   "outputs": [],
   "source": [
    "def GetWeightsGLag(n):\n",
    "    Roots = GetAllRootsGlag(n)\n",
    "    #n+1-esimo polinomio de laguerre\n",
    "    poly = GetLaguerre(n+1,x)\n",
    "    poly = sym.lambdify(x,poly,'numpy')\n",
    "    return Roots/(((n+1)**2)*(poly(Roots))**2)"
   ]
  },
  {
   "cell_type": "markdown",
   "metadata": {},
   "source": [
    "### **Ejemplo:** Pesos del polinomio de Laguerre de grado 2"
   ]
  },
  {
   "cell_type": "code",
   "execution_count": 78,
   "metadata": {},
   "outputs": [
    {
     "data": {
      "text/plain": [
       "array([0.85355339, 0.14644661])"
      ]
     },
     "execution_count": 78,
     "metadata": {},
     "output_type": "execute_result"
    }
   ],
   "source": [
    "GetWeightsGLag(2)"
   ]
  },
  {
   "cell_type": "markdown",
   "metadata": {},
   "source": [
    "---"
   ]
  },
  {
   "cell_type": "markdown",
   "metadata": {},
   "source": [
    "## Gauss-Hermite"
   ]
  },
  {
   "cell_type": "markdown",
   "metadata": {},
   "source": [
    "La aproximación de Gauss-Hermite consiste en encontrar los $k$ nodos y pesos tal que \n",
    "    $$ \\begin{align*}\n",
    "        \\int_{-\\infty}^\\infty e^{-x^2} f(x) dx &= \\sum_{k=0}^{n-1} c_k f(x_k) \n",
    "    \\end{align*}$$\n",
    "    Se puede demostrar que para $n$ nodos, estos están dados por los ceros de los *Polinomios de Hermite*, definidos mediante la fórmula de Rodrigues como\n",
    "\n",
    "$$ \\begin{align*}\n",
    "H_n(x) &= (-1)^n e^{x^2} \\frac{d^n}{dx^n}e^{-x^2}\n",
    "\\end{align*} $$\n",
    "\n",
    "A partir de esto, se puede crear una función en Python que retorne el $n$-ésimo polinomio de Hermite. Los polinomios de Hermite también satisfacen la ecuación de recursión\n",
    "\n",
    "$$\n",
    "\\begin{align*}\n",
    "H_{n+1}(x) = 2xH_n(x)-2nH_{n-1}(x)\n",
    "\\end{align*}\n",
    "$$\n",
    "\n",
    "por lo que se puede escribir la función anterior de forma recursiva teniendo en cuenta que $H_0(x)=1, H_1(x)=2x$.\n",
    "\n",
    "**Ejercicio 3.2**\n",
    "1. Escriba una función `GetHermite(n,x)` que retorne el $n$-ésimo polinomio de Hermite de forma recursiva.\n",
    "2. Escriba una función `GetAllRootsGHer(n)` que encuentre todas las raíces del $n$-ésimo polinomio de Hermite. Para esto, utilize el hecho de que las raíces están acotadas en el intervalo $(-\\sqrt{4n+1},\\sqrt{4n+1})$\n",
    "3. Escriba una función `GetWeightsGHer(n)` que encuentre los $n$-pesos del $n$-ésimo polinomio de Hermite. Tenga en cuenta que estos pesos están dados por \n",
    "$$\n",
    "\\begin{align*}\n",
    "c_k &= \\frac{2^{n-1}n! \\sqrt{\\pi}}{n^2[H_{n-1}(x_k)]^2}\n",
    "\\end{align*}\n",
    "$$\n"
   ]
  },
  {
   "cell_type": "markdown",
   "metadata": {},
   "source": [
    "### **1**"
   ]
  },
  {
   "cell_type": "code",
   "execution_count": 50,
   "metadata": {},
   "outputs": [],
   "source": [
    "def GetHermite(n,x):\n",
    "    if n==0:\n",
    "        return 1\n",
    "    elif n==1:\n",
    "        return 2*x\n",
    "    else:\n",
    "        return 2*x*GetHermite(n-1,x)-2*(n-1)*GetHermite(n-2,x)"
   ]
  },
  {
   "cell_type": "markdown",
   "metadata": {},
   "source": [
    "### **Ejemplo:** Polinomio Hermite de grado 2"
   ]
  },
  {
   "cell_type": "code",
   "execution_count": 51,
   "metadata": {},
   "outputs": [
    {
     "data": {
      "text/latex": [
       "$\\displaystyle 2 x \\left(4 x^{2} - 2\\right) - 8 x$"
      ],
      "text/plain": [
       "2*x*(4*x**2 - 2) - 8*x"
      ]
     },
     "execution_count": 51,
     "metadata": {},
     "output_type": "execute_result"
    }
   ],
   "source": [
    "GetHermite(3,x)"
   ]
  },
  {
   "cell_type": "markdown",
   "metadata": {},
   "source": [
    "### **2**"
   ]
  },
  {
   "cell_type": "code",
   "execution_count": 52,
   "metadata": {},
   "outputs": [],
   "source": [
    "def GetAllRootsGHer(n):\n",
    "    tolerancia = 14\n",
    "    xn = np.linspace(-np.sqrt(4*n+1),np.sqrt(4*n+1),50)\n",
    "    \n",
    "    poly = GetHermite(n,x)\n",
    "    df_poly = sym.diff(poly,x,1)\n",
    "    \n",
    "    poly = sym.lambdify(x,poly,'numpy')\n",
    "    df_poly = sym.lambdify(x,df_poly,'numpy')\n",
    "    \n",
    "    Roots = np.array([])\n",
    "    \n",
    "    for i in xn:\n",
    "        \n",
    "        root = GetNewton(poly,df_poly,i)\n",
    "        #print(type(root))\n",
    "        if  type(root)!=bool:\n",
    "            croot = np.round(root, tolerancia)\n",
    "            if croot not in Roots:\n",
    "                Roots = np.append(Roots, croot)\n",
    "                \n",
    "    Roots.sort()\n",
    "    \n",
    "    return Roots\n",
    "    "
   ]
  },
  {
   "cell_type": "markdown",
   "metadata": {},
   "source": [
    "### **Ejemplo:** Raices del polinomio de Hermite de grado 4"
   ]
  },
  {
   "cell_type": "code",
   "execution_count": 54,
   "metadata": {},
   "outputs": [
    {
     "data": {
      "text/plain": [
       "array([-1.65068012, -0.52464762,  0.52464762,  1.65068012])"
      ]
     },
     "execution_count": 54,
     "metadata": {},
     "output_type": "execute_result"
    }
   ],
   "source": [
    "GetAllRootsGHer(4)"
   ]
  },
  {
   "cell_type": "markdown",
   "metadata": {},
   "source": [
    "### **3**"
   ]
  },
  {
   "cell_type": "markdown",
   "metadata": {},
   "source": [
    "$$\n",
    "\\begin{align*}\n",
    "c_k &= \\frac{2^{n-1}n! \\sqrt{\\pi}}{n^2[H_{n-1}(x_k)]^2}\n",
    "\\end{align*}\n",
    "$$"
   ]
  },
  {
   "cell_type": "code",
   "execution_count": 66,
   "metadata": {},
   "outputs": [],
   "source": [
    "def GetWeightsGHer(n):\n",
    "    Roots = GetAllRootsGHer(n)\n",
    "    #n-1 -esimo polinomio de hermite\n",
    "    poly = GetHermite(n-1,x)\n",
    "    poly = sym.lambdify(x,poly,'numpy')\n",
    "    numerador = 2**(n-1)*np.math.factorial(n)*np.sqrt(np.pi)\n",
    "    denominador = n**2*(poly(Roots))**2\n",
    "    return numerador/denominador\n",
    "    "
   ]
  },
  {
   "cell_type": "markdown",
   "metadata": {},
   "source": [
    "### **Ejemplo:** Pesos del polinomio de Hermite de grado 4"
   ]
  },
  {
   "cell_type": "code",
   "execution_count": 67,
   "metadata": {},
   "outputs": [
    {
     "data": {
      "text/plain": [
       "array([0.08131284, 0.80491409, 0.80491409, 0.08131284])"
      ]
     },
     "execution_count": 67,
     "metadata": {},
     "output_type": "execute_result"
    }
   ],
   "source": [
    "GetWeightsGHer(4)"
   ]
  },
  {
   "cell_type": "markdown",
   "metadata": {},
   "source": [
    "## Aplicaciones"
   ]
  },
  {
   "cell_type": "markdown",
   "metadata": {},
   "source": [
    "### Utilizando la cuadratura **Gauss-Laguerre**, resuelva:"
   ]
  },
  {
   "cell_type": "markdown",
   "metadata": {},
   "source": [
    "En 1852, el físico escocés James Clerk Maxwell describió la distribución de velocidades de moléculas de un gas como \n",
    "\n",
    "$$\n",
    "\\begin{align*}\n",
    "    P(v) &= 4\\pi \\left( \\frac{M}{2\\pi R T} \\right)^{3/2} v^2 \\exp \\left( - \\frac{Mv^2}{2RT} \\right)\n",
    "\\end{align*}\n",
    "$$\n",
    "\n",
    "\n",
    "1. Demuestre que $\\int_0^\\infty P(v) dv =1$, es decir, que es una distribución de probabilidad.\n",
    "2. Grafique $P(v)$ para distintas temperaturas. ¿Qué puede decir de la velocidad más probable (con mayor $P(v)$) a medida que aumenta la temperatura?\n",
    "3. Para 10 distintas temperaturas, encuentre la *velocidad promedio*\n",
    "    \n",
    "$$\n",
    "\\begin{align*}\n",
    "v_{avg} &= \\int_0^\\infty vP(v) dv\n",
    "    \\end{align*}\n",
    "$$\n",
    "\n",
    "Grafique (en escala logarítmica) $v_{avg}$ y $T$ y verifique que se cumple\n",
    "\n",
    "$$\n",
    "\\begin{align*}\n",
    "    v_{avg} &= \\sqrt{\\frac{8RT}{\\pi M}}\n",
    "\\end{align*}\n",
    "$$\n",
    "4. Para 10 distintas temperaturas, encuentre la velocidad media cuadrática\n",
    "$$\n",
    "\\begin{align*}\n",
    "        v_{rms} &= \\sqrt{\\int_{0}^\\infty v^2 P(v) dv} \n",
    "    \\end{align*}\n",
    "$$\n",
    "\n",
    "Grafique (en escala logarítmica) $v_{rms}$ y $T$ y verifique que se cumple\n",
    "\n",
    "$$\n",
    "\\begin{align*}\n",
    "        v_{rms} &= \\sqrt{\\frac{3RT}{M}}\n",
    "    \\end{align*}\n",
    "$$\n",
    "5. Usando lo anterior, demuestre que la energía interna de un gas está dada por $E_{int}=\\frac{3}{2}nRT$"
   ]
  },
  {
   "cell_type": "code",
   "execution_count": 125,
   "metadata": {},
   "outputs": [],
   "source": [
    "from matplotlib import pyplot as plt\n",
    "import numpy as np"
   ]
  },
  {
   "cell_type": "markdown",
   "metadata": {},
   "source": [
    "### Distribucion Maxwell-Boltzmann:"
   ]
  },
  {
   "cell_type": "code",
   "execution_count": 126,
   "metadata": {},
   "outputs": [],
   "source": [
    "helium_m = 4.002602*1e-26\n",
    "boltzmann_k = 1.3806491e-23\n",
    "def MaxwBltz(v,M=helium_m,R=boltzmann_k,T=298):\n",
    "    return 4*np.pi*(M/(2*np.pi*R*T))**(3/2)*v**2*np.exp(-(M*v**2)/(2*R*T))"
   ]
  },
  {
   "cell_type": "markdown",
   "metadata": {},
   "source": [
    "### 1"
   ]
  },
  {
   "cell_type": "markdown",
   "metadata": {},
   "source": [
    "$$ \\begin{align*}\n",
    "    \\int_{0}^\\infty e^{-x} f(x) dx &= \\sum_{k=0}^{n-1} c_k f(x_k) \n",
    "\\end{align*}$$"
   ]
  },
  {
   "cell_type": "code",
   "execution_count": 129,
   "metadata": {},
   "outputs": [],
   "source": [
    "def funcion_integrar(v):\n",
    "    return MaxwBltz(v)*np.exp(v)"
   ]
  },
  {
   "cell_type": "code",
   "execution_count": 130,
   "metadata": {},
   "outputs": [],
   "source": [
    "n = 4\n",
    "x = sym.Symbol('x',real=True)\n",
    "xk = GetAllRootsGlag(n)\n",
    "ck = GetWeightsGLag(n)"
   ]
  },
  {
   "cell_type": "code",
   "execution_count": 131,
   "metadata": {},
   "outputs": [
    {
     "name": "stdout",
     "output_type": "stream",
     "text": [
      "raiz: 0.32254768961939, peso: 0.6031541043416678\n",
      "raiz: 1.74576110115835, peso: 0.3574186924377934\n",
      "raiz: 4.53662029692113, peso: 0.03888790851500525\n",
      "raiz: 9.39507091230113, peso: 0.0005392947055613295\n"
     ]
    }
   ],
   "source": [
    "for i in range(n):\n",
    "    print(f'raiz: {xk[i]}, peso: {ck[i]}')"
   ]
  },
  {
   "cell_type": "code",
   "execution_count": 135,
   "metadata": {},
   "outputs": [
    {
     "data": {
      "text/plain": [
       "1.581942043532177e-05"
      ]
     },
     "execution_count": 135,
     "metadata": {},
     "output_type": "execute_result"
    }
   ],
   "source": [
    "suma=0\n",
    "for i in range(n):\n",
    "    suma+= ck[i]*funcion_integrar(xk[i])\n",
    "suma"
   ]
  },
  {
   "cell_type": "markdown",
   "metadata": {},
   "source": [
    "### 2"
   ]
  },
  {
   "cell_type": "code",
   "execution_count": 124,
   "metadata": {},
   "outputs": [
    {
     "data": {
      "text/plain": [
       "<matplotlib.legend.Legend at 0x1505d81c888>"
      ]
     },
     "execution_count": 124,
     "metadata": {},
     "output_type": "execute_result"
    },
    {
     "data": {
      "image/png": "[encoded data removed]",
      "text/plain": [
       "<Figure size 720x360 with 1 Axes>"
      ]
     },
     "metadata": {
      "needs_background": "light"
     },
     "output_type": "display_data"
    }
   ],
   "source": [
    "fig, ax = plt.subplots(figsize=(10,5))\n",
    "T = [273,298,310,373]\n",
    "v = np.linspace(0,1000,2000)\n",
    "for temp in T:\n",
    "    ax.scatter(v,MaxwBltz(v,T=temp), label=f'Temperature = {temp}')\n",
    "ax.set_ylim(0,0.003 )\n",
    "ax.set_title(\"Distribucion de Maxwell-Boltzmann para el Helio\")\n",
    "plt.legend()"
   ]
  },
  {
   "cell_type": "markdown",
   "metadata": {},
   "source": [
    "A mayor temperatura, es más probable encontrar velocidades altas para particulas de Helio"
   ]
  },
  {
   "cell_type": "markdown",
   "metadata": {},
   "source": [
    "### 3"
   ]
  },
  {
   "cell_type": "markdown",
   "metadata": {},
   "source": [
    "$$\n",
    "\\begin{align*}\n",
    "v_{avg} &= \\int_0^\\infty vP(v) dv\n",
    "    \\end{align*}\n",
    "$$"
   ]
  },
  {
   "cell_type": "code",
   "execution_count": 159,
   "metadata": {},
   "outputs": [],
   "source": [
    "def funcion_integrar(v,T=298):\n",
    "    return v*MaxwBltz(v,T)*np.exp(v)"
   ]
  },
  {
   "cell_type": "code",
   "execution_count": 160,
   "metadata": {},
   "outputs": [],
   "source": [
    "n = 4\n",
    "x = sym.Symbol('x',real=True)\n",
    "xk = GetAllRootsGlag(n)\n",
    "ck = GetWeightsGLag(n)"
   ]
  },
  {
   "cell_type": "code",
   "execution_count": 176,
   "metadata": {},
   "outputs": [],
   "source": [
    "def velocidad_promedio(T):\n",
    "    suma=0\n",
    "    for i in range(n):\n",
    "        suma+= ck[i]*funcion_integrar(xk[i],T)\n",
    "    return suma\n",
    "    "
   ]
  },
  {
   "cell_type": "code",
   "execution_count": 177,
   "metadata": {},
   "outputs": [
    {
     "data": {
      "text/plain": [
       "array([0., 0., 0., 0.])"
      ]
     },
     "execution_count": 177,
     "metadata": {},
     "output_type": "execute_result"
    }
   ],
   "source": [
    "T = np.array([273,298,310,373])\n",
    "promedios =np.array([])\n",
    "for temp in T:\n",
    "    promedio = velocidad_promedio(temp)\n",
    "    promedios = np.append(promedios,promedio)\n",
    "\n",
    "promedios"
   ]
  }
 ],
 "metadata": {
  "kernelspec": {
   "display_name": "Python 3",
   "language": "python",
   "name": "python3"
  },
  "language_info": {
   "codemirror_mode": {
    "name": "ipython",
    "version": 3
   },
   "file_extension": ".py",
   "mimetype": "text/x-python",
   "name": "python",
   "nbconvert_exporter": "python",
   "pygments_lexer": "ipython3",
   "version": "3.7.6"
  }
 },
 "nbformat": 4,
 "nbformat_minor": 4
}
