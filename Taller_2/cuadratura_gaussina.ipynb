{
 "cells": [
  {
   "cell_type": "code",
   "execution_count": 68,
   "metadata": {},
   "outputs": [],
   "source": [
    "import numpy as np\n",
    "import sympy as sym\n",
    "import funciones"
   ]
  },
  {
   "cell_type": "code",
   "execution_count": 69,
   "metadata": {},
   "outputs": [],
   "source": [
    "x = sym.Symbol('x',real=True)\n",
    "n = 2"
   ]
  },
  {
   "cell_type": "markdown",
   "metadata": {},
   "source": [
    "### Punto 3.1"
   ]
  },
  {
   "cell_type": "code",
   "execution_count": 70,
   "metadata": {},
   "outputs": [],
   "source": [
    "def Legendre(n,x)->sym:\n",
    "    '''Calcula el n-esimo polinomio de legendre'''\n",
    "    y = (x**2 - 1)**n\n",
    "    poly = sym.diff(y,x,n)/(2**n*np.math.factorial(n))\n",
    "\n",
    "    return poly"
   ]
  },
  {
   "cell_type": "markdown",
   "metadata": {},
   "source": [
    "### Punto 3.2"
   ]
  },
  {
   "cell_type": "code",
   "execution_count": 71,
   "metadata": {},
   "outputs": [],
   "source": [
    "#Función auxiliar\n",
    "def Dlegendre(poly,x)->sym:\n",
    "  '''\n",
    "  Calcula la derivada del poliniomio de legendre\n",
    "\n",
    "    Parameters:\n",
    "    (symbol) poly: El polinomio de legendre que se quiere derivar\n",
    "  \n",
    "  '''\n",
    "  return sym.diff(poly,x,1)"
   ]
  },
  {
   "cell_type": "code",
   "execution_count": 82,
   "metadata": {},
   "outputs": [],
   "source": [
    "poly = Legendre(n,x)\n",
    "dpoly = Dlegendre(poly,x)"
   ]
  },
  {
   "cell_type": "code",
   "execution_count": 73,
   "metadata": {},
   "outputs": [],
   "source": [
    "poly = sym.lambdify(x,poly,'numpy')\n",
    "dpoly = sym.lambdify(x,dpoly,'numpy')"
   ]
  },
  {
   "cell_type": "code",
   "execution_count": 74,
   "metadata": {},
   "outputs": [],
   "source": [
    "def ceros_legendre(poly,dfpoly,x,tolerancia=14):\n",
    "    '''\n",
    "    Calcula los ceros del polinomio de legendre recibido como argumento\n",
    "    Parameters:\n",
    "      (function) poly: El polinomio de legendre\n",
    "      (function) dfpoly: La derivada del polinimio de legendre\n",
    "\n",
    "    Returns:\n",
    "      Arreglo con los ceros de poly\n",
    "    '''\n",
    "    Roots = np.array([])\n",
    "\n",
    "    for i in x:\n",
    "\n",
    "      root = funciones.GetNewton(poly,dfpoly,i)\n",
    "    \n",
    "      croot = np.round(root, tolerancia )\n",
    "        \n",
    "      if croot not in Roots:\n",
    "          Roots = np.append(Roots, croot)\n",
    "\n",
    "    Roots.sort()\n",
    "\n",
    "    return Roots"
   ]
  },
  {
   "cell_type": "code",
   "execution_count": 79,
   "metadata": {},
   "outputs": [
    {
     "data": {
      "text/plain": [
       "array([-0.57735027,  0.57735027])"
      ]
     },
     "execution_count": 79,
     "metadata": {},
     "output_type": "execute_result"
    }
   ],
   "source": [
    "xn = np.linspace(-1,1,100)\n",
    "ceros_legendre(poly,dpoly,xn)"
   ]
  },
  {
   "cell_type": "markdown",
   "metadata": {},
   "source": [
    "### Punto 3.3"
   ]
  },
  {
   "cell_type": "code",
   "execution_count": 76,
   "metadata": {},
   "outputs": [],
   "source": [
    "def pesos(n):\n",
    "    xn = np.linspace(-1,1,100)\n",
    "    \n",
    "    pesos = np.array([])\n",
    "    \n",
    "    x = sym.Symbol('x',real=True)\n",
    "    poly = Legendre(n,x)\n",
    "    dpoly = Dlegendre(poly,x)\n",
    "    \n",
    "    poly = sym.lambdify(x,poly,'numpy')\n",
    "    dpoly = sym.lambdify(x,dpoly,'numpy')\n",
    "    \n",
    "    ceros = ceros_legendre(poly,dpoly,xn,tolerancia=14)\n",
    "    \n",
    "    pesos = 2/((1-ceros**2)*(dpoly(ceros))**2)\n",
    "    return pesos"
   ]
  },
  {
   "cell_type": "markdown",
   "metadata": {},
   "source": [
    "### Punto 3.4"
   ]
  },
  {
   "cell_type": "code",
   "execution_count": 80,
   "metadata": {},
   "outputs": [
    {
     "data": {
      "text/plain": [
       "array([1., 1.])"
      ]
     },
     "execution_count": 80,
     "metadata": {},
     "output_type": "execute_result"
    }
   ],
   "source": [
    "#pesos para el segundo polinomio de Legendre\n",
    "pesos(2)"
   ]
  },
  {
   "cell_type": "code",
   "execution_count": 81,
   "metadata": {},
   "outputs": [
    {
     "data": {
      "text/plain": [
       "array([-0.57735027,  0.57735027])"
      ]
     },
     "execution_count": 81,
     "metadata": {},
     "output_type": "execute_result"
    }
   ],
   "source": [
    "#Ceros para el segundo polinomio de legendre\n",
    "ceros_legendre(poly,dpoly,xn)"
   ]
  },
  {
   "cell_type": "markdown",
   "metadata": {},
   "source": [
    "### Punto 3.5"
   ]
  },
  {
   "cell_type": "markdown",
   "metadata": {},
   "source": [
    "### Punto 3.6"
   ]
  },
  {
   "cell_type": "code",
   "execution_count": 84,
   "metadata": {},
   "outputs": [],
   "source": [
    "V = sym.Symbol('V',real=True)\n",
    "\n",
    "def Murnaghan(Bo,Boprima,Vo,V):\n",
    "    return (Bo/Boprima)*((V/Vo)**(-Boprima)-1)\n",
    "    "
   ]
  },
  {
   "cell_type": "code",
   "execution_count": 89,
   "metadata": {},
   "outputs": [
    {
     "data": {
      "text/latex": [
       "$\\displaystyle \\frac{3832243734234.77}{V^{4.63}} - 16.2570194384449$"
      ],
      "text/plain": [
       "3832243734234.77*V**(-4.63) - 16.2570194384449"
      ]
     },
     "execution_count": 89,
     "metadata": {},
     "output_type": "execute_result"
    }
   ],
   "source": [
    "Bo =75.27\n",
    "Boprima=4.63\n",
    "Vo =285.92\n",
    "Murnaghan(Bo,Boprima,Vo,V)"
   ]
  },
  {
   "cell_type": "code",
   "execution_count": 91,
   "metadata": {},
   "outputs": [
    {
     "data": {
      "text/latex": [
       "$\\displaystyle - \\frac{17743288489507.0}{V^{5.63}}$"
      ],
      "text/plain": [
       "-17743288489507.0*V**(-5.63)"
      ]
     },
     "execution_count": 91,
     "metadata": {},
     "output_type": "execute_result"
    }
   ],
   "source": [
    "murnaghan = Murnaghan(Bo,Boprima,Vo,V)\n",
    "sym.diff(murnaghan,V,1)"
   ]
  }
 ],
 "metadata": {
  "kernelspec": {
   "display_name": "Python 3",
   "language": "python",
   "name": "python3"
  },
  "language_info": {
   "codemirror_mode": {
    "name": "ipython",
    "version": 3
   },
   "file_extension": ".py",
   "mimetype": "text/x-python",
   "name": "python",
   "nbconvert_exporter": "python",
   "pygments_lexer": "ipython3",
   "version": "3.7.6"
  }
 },
 "nbformat": 4,
 "nbformat_minor": 4
}
